{
 "cells": [
  {
   "cell_type": "markdown",
   "metadata": {
    "id": "Z_fGl8o4J2FR"
   },
   "source": [
    "## **Loan Eligibility Prediction Model Using Pipelines**"
   ]
  },
  {
   "cell_type": "markdown",
   "metadata": {},
   "source": [
    "### Project Scope:\n",
    "\n",
    "Loans form an integral part of banking operations. However, not all loans are returned and hence it is important for a bank to closely moniter its loan applications. This case study is an analysis of the German Credit data. It contains details of 614 loan applicants with 13 attributes and the classification whether an applicant was granted loan or denied loan.\n",
    "\n",
    "**Your role:** Using the available dataset, train a classification model to predict whether an applicant should be given loan.\n",
    "\n",
    "**Goal:** Build a model to predict loan eligiblity with an average acuracy of more than 76%\n",
    "\n",
    "**Specifics:** \n",
    "\n",
    "* Machine Learning task: Classification model \n",
    "* Target variable: Loan_Status \n",
    "* Input variables: Refer to data dictionary below\n",
    "* Success Criteria: Accuracy of 76% and above\n"
   ]
  },
  {
   "cell_type": "markdown",
   "metadata": {},
   "source": [
    "## Data Dictionary:\n",
    "\n",
    "* **Loan_ID:** Applicant ID\n",
    "* **Gender:** Gender of the applicant Male/Female\n",
    "* **Married:** Marital status of the applicant\n",
    "* **Dependents:** Number of dependants the applicant has\n",
    "* **Education:** Highest level of education\n",
    "* **Self_Employed:** Whether self-employed Yes/No\n",
    "* **ApplicantIncome:** Income of the applicant\n",
    "* **CoapplicantIncome:** Income of the co-applicant\n",
    "* **LoanAmount:** Loan amount requested\n",
    "* **Loan_Amount_Term:** Term of the loan\n",
    "* **Credit_History:** Whether applicant has a credit history\n",
    "* **Property_Area:** Current property location\n",
    "* **Loan_Status:** Loan approved yes/no"
   ]
  },
  {
   "cell_type": "code",
   "execution_count": null,
   "metadata": {},
   "outputs": [],
   "source": [
    "from IPython.display import Image\n",
    "#Image(filename='.jpg')"
   ]
  },
  {
   "cell_type": "markdown",
   "metadata": {
    "id": "RYOHc68YujYE"
   },
   "source": [
    "## **Data Analysis and Data Prep**"
   ]
  },
  {
   "cell_type": "markdown",
   "metadata": {
    "id": "lc_kizYoJ2FS"
   },
   "source": [
    "### Loading all the necessary packages"
   ]
  },
  {
   "cell_type": "code",
   "execution_count": 1,
   "metadata": {
    "id": "AkAmUuumJ2FU"
   },
   "outputs": [],
   "source": [
    "import pandas as pd\n",
    "import numpy as np\n",
    "import seaborn as sns\n",
    "import matplotlib.pyplot as plt\n",
    "%matplotlib inline\n",
    "\n",
    "from sklearn.model_selection import train_test_split\n",
    "from sklearn.compose import ColumnTransformer, make_column_transformer # use either one\n",
    "from sklearn.impute import SimpleImputer\n",
    "from sklearn.preprocessing import OneHotEncoder\n",
    "from sklearn.preprocessing import MinMaxScaler \n",
    "from sklearn.feature_selection import SelectKBest,chi2 # used for feature selection\n",
    "from sklearn.tree import DecisionTreeClassifier\n",
    "\n",
    "\n",
    "# for creating pipelines\n",
    "from sklearn.pipeline import Pipeline, make_pipeline #we'll see the difference between them\n",
    "\n",
    "# filter warnings\n",
    "import warnings\n",
    "warnings.filterwarnings('ignore')"
   ]
  },
  {
   "cell_type": "markdown",
   "metadata": {
    "id": "ZsJCxVwOJ2FU"
   },
   "source": [
    "### Reading the data"
   ]
  },
  {
   "cell_type": "code",
   "execution_count": 2,
   "metadata": {
    "colab": {
     "base_uri": "https://localhost:8080/",
     "height": 0
    },
    "id": "LPxkm7y6J2FW",
    "outputId": "de99afc2-de77-4a01-99da-b48d266d5a19"
   },
   "outputs": [
    {
     "data": {
      "text/html": [
       "<div><div id=7be8999c-f33e-4abf-af7c-aa0805b854cd style=\"display:none; background-color:#9D6CFF; color:white; width:200px; height:30px; padding-left:5px; border-radius:4px; flex-direction:row; justify-content:space-around; align-items:center;\" onmouseover=\"this.style.backgroundColor='#BA9BF8'\" onmouseout=\"this.style.backgroundColor='#9D6CFF'\" onclick=\"window.commands?.execute('create-mitosheet-from-dataframe-output');\">See Full Dataframe in Mito</div> <script> if (window.commands.hasCommand('create-mitosheet-from-dataframe-output')) document.getElementById('7be8999c-f33e-4abf-af7c-aa0805b854cd').style.display = 'flex' </script> <table border=\"1\" class=\"dataframe\">\n",
       "  <thead>\n",
       "    <tr style=\"text-align: right;\">\n",
       "      <th></th>\n",
       "      <th>Loan_ID</th>\n",
       "      <th>Gender</th>\n",
       "      <th>Married</th>\n",
       "      <th>Dependents</th>\n",
       "      <th>Education</th>\n",
       "      <th>Self_Employed</th>\n",
       "      <th>ApplicantIncome</th>\n",
       "      <th>CoapplicantIncome</th>\n",
       "      <th>LoanAmount</th>\n",
       "      <th>Loan_Amount_Term</th>\n",
       "      <th>Credit_History</th>\n",
       "      <th>Property_Area</th>\n",
       "      <th>Loan_Status</th>\n",
       "    </tr>\n",
       "  </thead>\n",
       "  <tbody>\n",
       "    <tr>\n",
       "      <th>0</th>\n",
       "      <td>LP001002</td>\n",
       "      <td>Male</td>\n",
       "      <td>No</td>\n",
       "      <td>0</td>\n",
       "      <td>Graduate</td>\n",
       "      <td>No</td>\n",
       "      <td>5849</td>\n",
       "      <td>0.0</td>\n",
       "      <td>NaN</td>\n",
       "      <td>360.0</td>\n",
       "      <td>1.0</td>\n",
       "      <td>Urban</td>\n",
       "      <td>Y</td>\n",
       "    </tr>\n",
       "    <tr>\n",
       "      <th>1</th>\n",
       "      <td>LP001003</td>\n",
       "      <td>Male</td>\n",
       "      <td>Yes</td>\n",
       "      <td>1</td>\n",
       "      <td>Graduate</td>\n",
       "      <td>No</td>\n",
       "      <td>4583</td>\n",
       "      <td>1508.0</td>\n",
       "      <td>128.0</td>\n",
       "      <td>360.0</td>\n",
       "      <td>1.0</td>\n",
       "      <td>Rural</td>\n",
       "      <td>N</td>\n",
       "    </tr>\n",
       "    <tr>\n",
       "      <th>2</th>\n",
       "      <td>LP001005</td>\n",
       "      <td>Male</td>\n",
       "      <td>Yes</td>\n",
       "      <td>0</td>\n",
       "      <td>Graduate</td>\n",
       "      <td>Yes</td>\n",
       "      <td>3000</td>\n",
       "      <td>0.0</td>\n",
       "      <td>66.0</td>\n",
       "      <td>360.0</td>\n",
       "      <td>1.0</td>\n",
       "      <td>Urban</td>\n",
       "      <td>Y</td>\n",
       "    </tr>\n",
       "    <tr>\n",
       "      <th>3</th>\n",
       "      <td>LP001006</td>\n",
       "      <td>Male</td>\n",
       "      <td>Yes</td>\n",
       "      <td>0</td>\n",
       "      <td>Not Graduate</td>\n",
       "      <td>No</td>\n",
       "      <td>2583</td>\n",
       "      <td>2358.0</td>\n",
       "      <td>120.0</td>\n",
       "      <td>360.0</td>\n",
       "      <td>1.0</td>\n",
       "      <td>Urban</td>\n",
       "      <td>Y</td>\n",
       "    </tr>\n",
       "    <tr>\n",
       "      <th>4</th>\n",
       "      <td>LP001008</td>\n",
       "      <td>Male</td>\n",
       "      <td>No</td>\n",
       "      <td>0</td>\n",
       "      <td>Graduate</td>\n",
       "      <td>No</td>\n",
       "      <td>6000</td>\n",
       "      <td>0.0</td>\n",
       "      <td>141.0</td>\n",
       "      <td>360.0</td>\n",
       "      <td>1.0</td>\n",
       "      <td>Urban</td>\n",
       "      <td>Y</td>\n",
       "    </tr>\n",
       "  </tbody>\n",
       "</table></div>"
      ],
      "text/plain": [
       "    Loan_ID Gender Married Dependents     Education Self_Employed  \\\n",
       "0  LP001002   Male      No          0      Graduate            No   \n",
       "1  LP001003   Male     Yes          1      Graduate            No   \n",
       "2  LP001005   Male     Yes          0      Graduate           Yes   \n",
       "3  LP001006   Male     Yes          0  Not Graduate            No   \n",
       "4  LP001008   Male      No          0      Graduate            No   \n",
       "\n",
       "   ApplicantIncome  CoapplicantIncome  LoanAmount  Loan_Amount_Term  \\\n",
       "0             5849                0.0         NaN             360.0   \n",
       "1             4583             1508.0       128.0             360.0   \n",
       "2             3000                0.0        66.0             360.0   \n",
       "3             2583             2358.0       120.0             360.0   \n",
       "4             6000                0.0       141.0             360.0   \n",
       "\n",
       "   Credit_History Property_Area Loan_Status  \n",
       "0             1.0         Urban           Y  \n",
       "1             1.0         Rural           N  \n",
       "2             1.0         Urban           Y  \n",
       "3             1.0         Urban           Y  \n",
       "4             1.0         Urban           Y  "
      ]
     },
     "execution_count": 2,
     "metadata": {},
     "output_type": "execute_result"
    }
   ],
   "source": [
    "# Import the data from 'credit.csv'\n",
    "df = pd.read_csv('credit.csv')\n",
    "df.head(5)"
   ]
  },
  {
   "cell_type": "code",
   "execution_count": 3,
   "metadata": {},
   "outputs": [
    {
     "data": {
      "text/plain": [
       "(614, 13)"
      ]
     },
     "execution_count": 3,
     "metadata": {},
     "output_type": "execute_result"
    }
   ],
   "source": [
    "# check the number of rows and observations\n",
    "df.shape"
   ]
  },
  {
   "cell_type": "code",
   "execution_count": 4,
   "metadata": {
    "colab": {
     "base_uri": "https://localhost:8080/",
     "height": 0
    },
    "id": "MwgS6DwLJ2FX",
    "outputId": "73767cb5-aed4-4aac-de91-7689c18889ac"
   },
   "outputs": [
    {
     "data": {
      "image/png": "[encoded data removed]",
      "text/plain": [
       "<Figure size 432x288 with 1 Axes>"
      ]
     },
     "metadata": {
      "needs_background": "light"
     },
     "output_type": "display_data"
    }
   ],
   "source": [
    "# How many application were approved and how many were denied?\n",
    "df['Loan_Status'].value_counts().plot.bar()\n",
    "plt.show()"
   ]
  },
  {
   "cell_type": "markdown",
   "metadata": {
    "id": "bd1ibbDJJ2FY"
   },
   "source": [
    "This is an imbalanced dataset. 422 people (around 69%) out of 614 were eligible for loan"
   ]
  },
  {
   "cell_type": "markdown",
   "metadata": {},
   "source": [
    "    "
   ]
  },
  {
   "cell_type": "markdown",
   "metadata": {},
   "source": [
    "### Data Prep"
   ]
  },
  {
   "cell_type": "code",
   "execution_count": 5,
   "metadata": {},
   "outputs": [],
   "source": [
    "# drop 'Loan_ID' variable from the data. We won't need it.\n",
    "df = df.drop('Loan_ID', axis=1)"
   ]
  },
  {
   "cell_type": "code",
   "execution_count": 6,
   "metadata": {},
   "outputs": [
    {
     "data": {
      "text/html": [
       "<div><div id=1772d1ce-4d6b-4e76-9e00-f6f66126e91b style=\"display:none; background-color:#9D6CFF; color:white; width:200px; height:30px; padding-left:5px; border-radius:4px; flex-direction:row; justify-content:space-around; align-items:center;\" onmouseover=\"this.style.backgroundColor='#BA9BF8'\" onmouseout=\"this.style.backgroundColor='#9D6CFF'\" onclick=\"window.commands?.execute('create-mitosheet-from-dataframe-output');\">See Full Dataframe in Mito</div> <script> if (window.commands.hasCommand('create-mitosheet-from-dataframe-output')) document.getElementById('1772d1ce-4d6b-4e76-9e00-f6f66126e91b').style.display = 'flex' </script> <table border=\"1\" class=\"dataframe\">\n",
       "  <thead>\n",
       "    <tr style=\"text-align: right;\">\n",
       "      <th></th>\n",
       "      <th>Gender</th>\n",
       "      <th>Married</th>\n",
       "      <th>Dependents</th>\n",
       "      <th>Education</th>\n",
       "      <th>Self_Employed</th>\n",
       "      <th>ApplicantIncome</th>\n",
       "      <th>CoapplicantIncome</th>\n",
       "      <th>LoanAmount</th>\n",
       "      <th>Loan_Amount_Term</th>\n",
       "      <th>Credit_History</th>\n",
       "      <th>Property_Area</th>\n",
       "      <th>Loan_Status</th>\n",
       "    </tr>\n",
       "  </thead>\n",
       "  <tbody>\n",
       "    <tr>\n",
       "      <th>0</th>\n",
       "      <td>Male</td>\n",
       "      <td>No</td>\n",
       "      <td>0</td>\n",
       "      <td>Graduate</td>\n",
       "      <td>No</td>\n",
       "      <td>5849</td>\n",
       "      <td>0.0</td>\n",
       "      <td>NaN</td>\n",
       "      <td>360.0</td>\n",
       "      <td>1.0</td>\n",
       "      <td>Urban</td>\n",
       "      <td>Y</td>\n",
       "    </tr>\n",
       "    <tr>\n",
       "      <th>1</th>\n",
       "      <td>Male</td>\n",
       "      <td>Yes</td>\n",
       "      <td>1</td>\n",
       "      <td>Graduate</td>\n",
       "      <td>No</td>\n",
       "      <td>4583</td>\n",
       "      <td>1508.0</td>\n",
       "      <td>128.0</td>\n",
       "      <td>360.0</td>\n",
       "      <td>1.0</td>\n",
       "      <td>Rural</td>\n",
       "      <td>N</td>\n",
       "    </tr>\n",
       "  </tbody>\n",
       "</table></div>"
      ],
      "text/plain": [
       "  Gender Married Dependents Education Self_Employed  ApplicantIncome  \\\n",
       "0   Male      No          0  Graduate            No             5849   \n",
       "1   Male     Yes          1  Graduate            No             4583   \n",
       "\n",
       "   CoapplicantIncome  LoanAmount  Loan_Amount_Term  Credit_History  \\\n",
       "0                0.0         NaN             360.0             1.0   \n",
       "1             1508.0       128.0             360.0             1.0   \n",
       "\n",
       "  Property_Area Loan_Status  \n",
       "0         Urban           Y  \n",
       "1         Rural           N  "
      ]
     },
     "execution_count": 6,
     "metadata": {},
     "output_type": "execute_result"
    }
   ],
   "source": [
    "df.head(2)"
   ]
  },
  {
   "cell_type": "raw",
   "metadata": {},
   "source": [
    "# Not required, but if you want you can replace categorical values\n",
    "# for 'Loan_Status' variable replace 'Y' with 1 and 'N' with 0\n",
    "df = df.replace({'Loan_Status':{'Y':1,'N':0}})"
   ]
  },
  {
   "cell_type": "markdown",
   "metadata": {
    "id": "kO38zz_lvQlb"
   },
   "source": [
    "### Data Partition"
   ]
  },
  {
   "cell_type": "code",
   "execution_count": 7,
   "metadata": {
    "id": "Pq-bHTPlJ2Fn"
   },
   "outputs": [],
   "source": [
    "# Seperate the input features and target variable\n",
    "x = df.drop('Loan_Status',axis=1)\n",
    "y = df.Loan_Status"
   ]
  },
  {
   "cell_type": "code",
   "execution_count": 8,
   "metadata": {
    "id": "m4VrDseVJ2Fn"
   },
   "outputs": [],
   "source": [
    "# splitting the data in training and testing set\n",
    "from sklearn.model_selection import train_test_split\n",
    "xtrain, xtest, ytrain, ytest = train_test_split(x,y, test_size=0.2)"
   ]
  },
  {
   "cell_type": "code",
   "execution_count": 9,
   "metadata": {
    "colab": {
     "base_uri": "https://localhost:8080/",
     "height": 0
    },
    "id": "SzRQ8H5EJ2Fo",
    "outputId": "e64adf59-88f3-4294-fc9e-339097ff6618"
   },
   "outputs": [
    {
     "data": {
      "text/plain": [
       "((491, 11), (123, 11), (491,), (123,))"
      ]
     },
     "execution_count": 9,
     "metadata": {},
     "output_type": "execute_result"
    }
   ],
   "source": [
    "xtrain.shape, xtest.shape, ytrain.shape, ytest.shape"
   ]
  },
  {
   "cell_type": "code",
   "execution_count": 10,
   "metadata": {},
   "outputs": [
    {
     "data": {
      "text/plain": [
       "(array(['Male', 'Female', nan], dtype=object),\n",
       " array(['Male', nan, 'Female'], dtype=object))"
      ]
     },
     "execution_count": 10,
     "metadata": {},
     "output_type": "execute_result"
    }
   ],
   "source": [
    "xtrain['Gender'].unique(),xtest['Gender'].unique()"
   ]
  },
  {
   "cell_type": "markdown",
   "metadata": {},
   "source": [
    "### Split before pre-processing or imputing.\n",
    "\n",
    "The division between training and test set is an attempt to replicate the situation where you have past information and are building a model which you will test on future information. If you impute first with train+valid data set and split next, then you have used test data set before you built your model, which is how a data leakage problem comes into picture."
   ]
  },
  {
   "cell_type": "markdown",
   "metadata": {
    "id": "vQniuFLiJ2FZ"
   },
   "source": [
    "### Column Transformer - Missing value imputation"
   ]
  },
  {
   "cell_type": "code",
   "execution_count": 11,
   "metadata": {},
   "outputs": [
    {
     "data": {
      "text/html": [
       "<div><div id=60b1f7a4-55d9-44c3-9d29-0483ba2f63ac style=\"display:none; background-color:#9D6CFF; color:white; width:200px; height:30px; padding-left:5px; border-radius:4px; flex-direction:row; justify-content:space-around; align-items:center;\" onmouseover=\"this.style.backgroundColor='#BA9BF8'\" onmouseout=\"this.style.backgroundColor='#9D6CFF'\" onclick=\"window.commands?.execute('create-mitosheet-from-dataframe-output');\">See Full Dataframe in Mito</div> <script> if (window.commands.hasCommand('create-mitosheet-from-dataframe-output')) document.getElementById('60b1f7a4-55d9-44c3-9d29-0483ba2f63ac').style.display = 'flex' </script> <table border=\"1\" class=\"dataframe\">\n",
       "  <thead>\n",
       "    <tr style=\"text-align: right;\">\n",
       "      <th></th>\n",
       "      <th>Gender</th>\n",
       "      <th>Married</th>\n",
       "      <th>Dependents</th>\n",
       "      <th>Education</th>\n",
       "      <th>Self_Employed</th>\n",
       "      <th>ApplicantIncome</th>\n",
       "      <th>CoapplicantIncome</th>\n",
       "      <th>LoanAmount</th>\n",
       "      <th>Loan_Amount_Term</th>\n",
       "      <th>Credit_History</th>\n",
       "      <th>Property_Area</th>\n",
       "    </tr>\n",
       "  </thead>\n",
       "  <tbody>\n",
       "    <tr>\n",
       "      <th>101</th>\n",
       "      <td>Male</td>\n",
       "      <td>No</td>\n",
       "      <td>0</td>\n",
       "      <td>Graduate</td>\n",
       "      <td>No</td>\n",
       "      <td>4843</td>\n",
       "      <td>3806.0</td>\n",
       "      <td>151.0</td>\n",
       "      <td>360.0</td>\n",
       "      <td>1.0</td>\n",
       "      <td>Semiurban</td>\n",
       "    </tr>\n",
       "    <tr>\n",
       "      <th>89</th>\n",
       "      <td>Male</td>\n",
       "      <td>Yes</td>\n",
       "      <td>0</td>\n",
       "      <td>Graduate</td>\n",
       "      <td>No</td>\n",
       "      <td>5695</td>\n",
       "      <td>4167.0</td>\n",
       "      <td>175.0</td>\n",
       "      <td>360.0</td>\n",
       "      <td>1.0</td>\n",
       "      <td>Semiurban</td>\n",
       "    </tr>\n",
       "  </tbody>\n",
       "</table></div>"
      ],
      "text/plain": [
       "    Gender Married Dependents Education Self_Employed  ApplicantIncome  \\\n",
       "101   Male      No          0  Graduate            No             4843   \n",
       "89    Male     Yes          0  Graduate            No             5695   \n",
       "\n",
       "     CoapplicantIncome  LoanAmount  Loan_Amount_Term  Credit_History  \\\n",
       "101             3806.0       151.0             360.0             1.0   \n",
       "89              4167.0       175.0             360.0             1.0   \n",
       "\n",
       "    Property_Area  \n",
       "101     Semiurban  \n",
       "89      Semiurban  "
      ]
     },
     "execution_count": 11,
     "metadata": {},
     "output_type": "execute_result"
    }
   ],
   "source": [
    "xtrain.head(2)"
   ]
  },
  {
   "cell_type": "markdown",
   "metadata": {},
   "source": [
    "#### Using ColumnTransformer requires naming of steps vs make_column_transformer does not"
   ]
  },
  {
   "cell_type": "raw",
   "metadata": {},
   "source": [
    "# Pass a list of tuples to the column transformer\n",
    "step1 = ColumnTransformer([\n",
    "    ('impute_Gender',SimpleImputer(strategy='most_frequent'),[0]),\n",
    "    ('impute_Married',SimpleImputer(strategy='most_frequent'),[1]),\n",
    "    ('impute_Dependants',SimpleImputer(strategy='most_frequent'),[2]),\n",
    "    ('impute_Education',SimpleImputer(strategy='most_frequent'),[3]),\n",
    "    ('impute_Self_Employed',SimpleImputer(strategy='most_frequent'),[4]),\n",
    "    ('impute_ApplicantIncome',SimpleImputer(strategy='median'),[5]),\n",
    "    ('impute_CoapplicantIncome',SimpleImputer(strategy='median'),[6]),\n",
    "    ('impute_LoanAmount',SimpleImputer(strategy='median'),[7]),\n",
    "    ('impute_Loan_Amount_Term',SimpleImputer(strategy='most_frequent'),[8]),\n",
    "    ('impute_Credit_History',SimpleImputer(strategy='most_frequent'),[9]),\n",
    "    ('impute_Property_Area',SimpleImputer(strategy='most_frequent'),[10])],remainder='passthrough')\n",
    "\n",
    "# reminder passthrough is not needed here since we have used all of them for imputation. \n",
    "# if you choose only few columns for imputation, use this argument otherwhise remaining columns get dropped"
   ]
  },
  {
   "cell_type": "code",
   "execution_count": null,
   "metadata": {},
   "outputs": [],
   "source": [
    "xtrain.shape"
   ]
  },
  {
   "cell_type": "code",
   "execution_count": 12,
   "metadata": {},
   "outputs": [],
   "source": [
    "# Pass a list of tuples to the column transformer\n",
    "step1 = make_column_transformer(\n",
    "    (SimpleImputer(strategy='most_frequent'),[0]),\n",
    "    (SimpleImputer(strategy='most_frequent'),[1]),\n",
    "    (SimpleImputer(strategy='most_frequent'),[2]),\n",
    "    (SimpleImputer(strategy='most_frequent'),[3]),\n",
    "    (SimpleImputer(strategy='most_frequent'),[4]),\n",
    "    (SimpleImputer(strategy='median'),[5]),\n",
    "    (SimpleImputer(strategy='median'),[6]),\n",
    "    (SimpleImputer(strategy='median'),[7]),\n",
    "    (SimpleImputer(strategy='most_frequent'),[8]),\n",
    "    (SimpleImputer(strategy='most_frequent'),[9]),\n",
    "    (SimpleImputer(strategy='most_frequent'),[10]),remainder='passthrough')\n",
    "\n",
    "# reminder passthrough is not needed here since we have used all of them for imputation. \n",
    "# if you choose only few columns for imputation, use this argument otherwhise remaining columns get dropped"
   ]
  },
  {
   "cell_type": "markdown",
   "metadata": {},
   "source": [
    "It is always better to select columns with index values. Since the output of the column transformer is an array and array' don't hold column names. So it creates issue with the next step input."
   ]
  },
  {
   "cell_type": "markdown",
   "metadata": {},
   "source": [
    "    "
   ]
  },
  {
   "cell_type": "markdown",
   "metadata": {},
   "source": [
    "## One hot encoding"
   ]
  },
  {
   "cell_type": "markdown",
   "metadata": {},
   "source": [
    "Apply OneHotEncoding to categorical columns"
   ]
  },
  {
   "cell_type": "code",
   "execution_count": 13,
   "metadata": {},
   "outputs": [],
   "source": [
    "# one hot encoding\n",
    "\n",
    "# handle_unknown='ignore' - if in future or during testing there are any new categories, they will be ignored and set to 0\n",
    "\n",
    "step2 = make_column_transformer((OneHotEncoder(sparse=False,handle_unknown='ignore'), [0,1,2,3,4,10]) ,remainder='passthrough')"
   ]
  },
  {
   "cell_type": "markdown",
   "metadata": {},
   "source": [
    "    "
   ]
  },
  {
   "cell_type": "markdown",
   "metadata": {},
   "source": [
    "## Scaling Data"
   ]
  },
  {
   "cell_type": "code",
   "execution_count": 14,
   "metadata": {},
   "outputs": [],
   "source": [
    "# Scale all the columns. Since the previous step is going to create new columns and indexing might create issues\n",
    "step3 = make_column_transformer((MinMaxScaler(),[-2,-3,-4,-5]), remainder='passthrough')"
   ]
  },
  {
   "cell_type": "markdown",
   "metadata": {},
   "source": [
    "    "
   ]
  },
  {
   "cell_type": "markdown",
   "metadata": {},
   "source": [
    "## Feature Selection"
   ]
  },
  {
   "cell_type": "code",
   "execution_count": 15,
   "metadata": {},
   "outputs": [],
   "source": [
    "# Feature selection\n",
    "step4 = SelectKBest(chi2,k=10)"
   ]
  },
  {
   "cell_type": "markdown",
   "metadata": {},
   "source": [
    "    "
   ]
  },
  {
   "cell_type": "markdown",
   "metadata": {},
   "source": [
    "## Define Model"
   ]
  },
  {
   "cell_type": "raw",
   "metadata": {},
   "source": [
    "# train the model\n",
    "step5 = DecisionTreeClassifier()"
   ]
  },
  {
   "cell_type": "code",
   "execution_count": 52,
   "metadata": {},
   "outputs": [],
   "source": [
    "# we will try different values for parameters max_depth and min_samples_split of a tree\n",
    "params = { 'max_depth':[None,1,2,3],\n",
    "         'min_samples_split':[2,3,4]}"
   ]
  },
  {
   "cell_type": "code",
   "execution_count": 53,
   "metadata": {},
   "outputs": [],
   "source": [
    "from sklearn.model_selection import GridSearchCV\n",
    "step5= GridSearchCV(DecisionTreeClassifier(),params,refit=True)"
   ]
  },
  {
   "cell_type": "markdown",
   "metadata": {},
   "source": [
    "    "
   ]
  },
  {
   "cell_type": "markdown",
   "metadata": {},
   "source": [
    "## Pipleline vs Make_Pipeline\n",
    "\n",
    "Pipeline requires naming the steps, make_pipeline does not."
   ]
  },
  {
   "cell_type": "markdown",
   "metadata": {},
   "source": [
    "## 1. `Pipeline` syntax"
   ]
  },
  {
   "cell_type": "code",
   "execution_count": 60,
   "metadata": {},
   "outputs": [],
   "source": [
    "dtpipe = Pipeline([\n",
    "    ('impute',step1),\n",
    "    ('encode',step2),\n",
    "    ('scale',step3),\n",
    "    ('select',step4),\n",
    "    ('train',step5)\n",
    "])"
   ]
  },
  {
   "cell_type": "markdown",
   "metadata": {},
   "source": [
    "## 2. `Make_Pipeline` syntax"
   ]
  },
  {
   "cell_type": "raw",
   "metadata": {},
   "source": [
    "# Alternate Syntax\n",
    "dtpipe = make_pipeline(step1, step2, step3, step4, step5)"
   ]
  },
  {
   "cell_type": "code",
   "execution_count": 61,
   "metadata": {},
   "outputs": [],
   "source": [
    "# To display Pipeline run this code before the running the pipeline.\n",
    "\n",
    "from sklearn import set_config\n",
    "set_config(display='diagram')"
   ]
  },
  {
   "cell_type": "code",
   "execution_count": 62,
   "metadata": {},
   "outputs": [
    {
     "data": {
      "text/html": [
       "<style>#sk-6870bb6a-4ae3-40ca-b5e7-488b55c303cf {color: black;background-color: white;}#sk-6870bb6a-4ae3-40ca-b5e7-488b55c303cf pre{padding: 0;}#sk-6870bb6a-4ae3-40ca-b5e7-488b55c303cf div.sk-toggleable {background-color: white;}#sk-6870bb6a-4ae3-40ca-b5e7-488b55c303cf label.sk-toggleable__label {cursor: pointer;display: block;width: 100%;margin-bottom: 0;padding: 0.3em;box-sizing: border-box;text-align: center;}#sk-6870bb6a-4ae3-40ca-b5e7-488b55c303cf label.sk-toggleable__label-arrow:before {content: \"▸\";float: left;margin-right: 0.25em;color: #696969;}#sk-6870bb6a-4ae3-40ca-b5e7-488b55c303cf label.sk-toggleable__label-arrow:hover:before {color: black;}#sk-6870bb6a-4ae3-40ca-b5e7-488b55c303cf div.sk-estimator:hover label.sk-toggleable__label-arrow:before {color: black;}#sk-6870bb6a-4ae3-40ca-b5e7-488b55c303cf div.sk-toggleable__content {max-height: 0;max-width: 0;overflow: hidden;text-align: left;background-color: #f0f8ff;}#sk-6870bb6a-4ae3-40ca-b5e7-488b55c303cf div.sk-toggleable__content pre {margin: 0.2em;color: black;border-radius: 0.25em;background-color: #f0f8ff;}#sk-6870bb6a-4ae3-40ca-b5e7-488b55c303cf input.sk-toggleable__control:checked~div.sk-toggleable__content {max-height: 200px;max-width: 100%;overflow: auto;}#sk-6870bb6a-4ae3-40ca-b5e7-488b55c303cf input.sk-toggleable__control:checked~label.sk-toggleable__label-arrow:before {content: \"▾\";}#sk-6870bb6a-4ae3-40ca-b5e7-488b55c303cf div.sk-estimator input.sk-toggleable__control:checked~label.sk-toggleable__label {background-color: #d4ebff;}#sk-6870bb6a-4ae3-40ca-b5e7-488b55c303cf div.sk-label input.sk-toggleable__control:checked~label.sk-toggleable__label {background-color: #d4ebff;}#sk-6870bb6a-4ae3-40ca-b5e7-488b55c303cf input.sk-hidden--visually {border: 0;clip: rect(1px 1px 1px 1px);clip: rect(1px, 1px, 1px, 1px);height: 1px;margin: -1px;overflow: hidden;padding: 0;position: absolute;width: 1px;}#sk-6870bb6a-4ae3-40ca-b5e7-488b55c303cf div.sk-estimator {font-family: monospace;background-color: #f0f8ff;border: 1px dotted black;border-radius: 0.25em;box-sizing: border-box;margin-bottom: 0.5em;}#sk-6870bb6a-4ae3-40ca-b5e7-488b55c303cf div.sk-estimator:hover {background-color: #d4ebff;}#sk-6870bb6a-4ae3-40ca-b5e7-488b55c303cf div.sk-parallel-item::after {content: \"\";width: 100%;border-bottom: 1px solid gray;flex-grow: 1;}#sk-6870bb6a-4ae3-40ca-b5e7-488b55c303cf div.sk-label:hover label.sk-toggleable__label {background-color: #d4ebff;}#sk-6870bb6a-4ae3-40ca-b5e7-488b55c303cf div.sk-serial::before {content: \"\";position: absolute;border-left: 1px solid gray;box-sizing: border-box;top: 2em;bottom: 0;left: 50%;}#sk-6870bb6a-4ae3-40ca-b5e7-488b55c303cf div.sk-serial {display: flex;flex-direction: column;align-items: center;background-color: white;padding-right: 0.2em;padding-left: 0.2em;}#sk-6870bb6a-4ae3-40ca-b5e7-488b55c303cf div.sk-item {z-index: 1;}#sk-6870bb6a-4ae3-40ca-b5e7-488b55c303cf div.sk-parallel {display: flex;align-items: stretch;justify-content: center;background-color: white;}#sk-6870bb6a-4ae3-40ca-b5e7-488b55c303cf div.sk-parallel::before {content: \"\";position: absolute;border-left: 1px solid gray;box-sizing: border-box;top: 2em;bottom: 0;left: 50%;}#sk-6870bb6a-4ae3-40ca-b5e7-488b55c303cf div.sk-parallel-item {display: flex;flex-direction: column;position: relative;background-color: white;}#sk-6870bb6a-4ae3-40ca-b5e7-488b55c303cf div.sk-parallel-item:first-child::after {align-self: flex-end;width: 50%;}#sk-6870bb6a-4ae3-40ca-b5e7-488b55c303cf div.sk-parallel-item:last-child::after {align-self: flex-start;width: 50%;}#sk-6870bb6a-4ae3-40ca-b5e7-488b55c303cf div.sk-parallel-item:only-child::after {width: 0;}#sk-6870bb6a-4ae3-40ca-b5e7-488b55c303cf div.sk-dashed-wrapped {border: 1px dashed gray;margin: 0 0.4em 0.5em 0.4em;box-sizing: border-box;padding-bottom: 0.4em;background-color: white;position: relative;}#sk-6870bb6a-4ae3-40ca-b5e7-488b55c303cf div.sk-label label {font-family: monospace;font-weight: bold;background-color: white;display: inline-block;line-height: 1.2em;}#sk-6870bb6a-4ae3-40ca-b5e7-488b55c303cf div.sk-label-container {position: relative;z-index: 2;text-align: center;}#sk-6870bb6a-4ae3-40ca-b5e7-488b55c303cf div.sk-container {/* jupyter's `normalize.less` sets `[hidden] { display: none; }` but bootstrap.min.css set `[hidden] { display: none !important; }` so we also need the `!important` here to be able to override the default hidden behavior on the sphinx rendered scikit-learn.org. See: https://github.com/scikit-learn/scikit-learn/issues/21755 */display: inline-block !important;position: relative;}#sk-6870bb6a-4ae3-40ca-b5e7-488b55c303cf div.sk-text-repr-fallback {display: none;}</style><div id=\"sk-6870bb6a-4ae3-40ca-b5e7-488b55c303cf\" class=\"sk-top-container\"><div class=\"sk-text-repr-fallback\"><pre>Pipeline(steps=[(&#x27;impute&#x27;,\n",
       "                 ColumnTransformer(remainder=&#x27;passthrough&#x27;,\n",
       "                                   transformers=[(&#x27;simpleimputer-1&#x27;,\n",
       "                                                  SimpleImputer(strategy=&#x27;most_frequent&#x27;),\n",
       "                                                  [0]),\n",
       "                                                 (&#x27;simpleimputer-2&#x27;,\n",
       "                                                  SimpleImputer(strategy=&#x27;most_frequent&#x27;),\n",
       "                                                  [1]),\n",
       "                                                 (&#x27;simpleimputer-3&#x27;,\n",
       "                                                  SimpleImputer(strategy=&#x27;most_frequent&#x27;),\n",
       "                                                  [2]),\n",
       "                                                 (&#x27;simpleimputer-4&#x27;,\n",
       "                                                  SimpleImputer(strategy=&#x27;most_frequent&#x27;),\n",
       "                                                  [3]),\n",
       "                                                 (&#x27;simpleimpu...\n",
       "                                                  OneHotEncoder(handle_unknown=&#x27;ignore&#x27;,\n",
       "                                                                sparse=False),\n",
       "                                                  [0, 1, 2, 3, 4, 10])])),\n",
       "                (&#x27;scale&#x27;,\n",
       "                 ColumnTransformer(remainder=&#x27;passthrough&#x27;,\n",
       "                                   transformers=[(&#x27;minmaxscaler&#x27;,\n",
       "                                                  MinMaxScaler(),\n",
       "                                                  [-2, -3, -4, -5])])),\n",
       "                (&#x27;select&#x27;,\n",
       "                 SelectKBest(score_func=&lt;function chi2 at 0x7f9025bf1320&gt;)),\n",
       "                (&#x27;train&#x27;,\n",
       "                 GridSearchCV(estimator=DecisionTreeClassifier(),\n",
       "                              param_grid={&#x27;max_depth&#x27;: [None, 1, 2, 3],\n",
       "                                          &#x27;min_samples_split&#x27;: [2, 3, 4]}))])</pre><b>Please rerun this cell to show the HTML repr or trust the notebook.</b></div><div class=\"sk-container\" hidden><div class=\"sk-item sk-dashed-wrapped\"><div class=\"sk-label-container\"><div class=\"sk-label sk-toggleable\"><input class=\"sk-toggleable__control sk-hidden--visually\" id=\"48d94d72-3110-4dba-afc9-7f275e801b5d\" type=\"checkbox\" ><label for=\"48d94d72-3110-4dba-afc9-7f275e801b5d\" class=\"sk-toggleable__label sk-toggleable__label-arrow\">Pipeline</label><div class=\"sk-toggleable__content\"><pre>Pipeline(steps=[(&#x27;impute&#x27;,\n",
       "                 ColumnTransformer(remainder=&#x27;passthrough&#x27;,\n",
       "                                   transformers=[(&#x27;simpleimputer-1&#x27;,\n",
       "                                                  SimpleImputer(strategy=&#x27;most_frequent&#x27;),\n",
       "                                                  [0]),\n",
       "                                                 (&#x27;simpleimputer-2&#x27;,\n",
       "                                                  SimpleImputer(strategy=&#x27;most_frequent&#x27;),\n",
       "                                                  [1]),\n",
       "                                                 (&#x27;simpleimputer-3&#x27;,\n",
       "                                                  SimpleImputer(strategy=&#x27;most_frequent&#x27;),\n",
       "                                                  [2]),\n",
       "                                                 (&#x27;simpleimputer-4&#x27;,\n",
       "                                                  SimpleImputer(strategy=&#x27;most_frequent&#x27;),\n",
       "                                                  [3]),\n",
       "                                                 (&#x27;simpleimpu...\n",
       "                                                  OneHotEncoder(handle_unknown=&#x27;ignore&#x27;,\n",
       "                                                                sparse=False),\n",
       "                                                  [0, 1, 2, 3, 4, 10])])),\n",
       "                (&#x27;scale&#x27;,\n",
       "                 ColumnTransformer(remainder=&#x27;passthrough&#x27;,\n",
       "                                   transformers=[(&#x27;minmaxscaler&#x27;,\n",
       "                                                  MinMaxScaler(),\n",
       "                                                  [-2, -3, -4, -5])])),\n",
       "                (&#x27;select&#x27;,\n",
       "                 SelectKBest(score_func=&lt;function chi2 at 0x7f9025bf1320&gt;)),\n",
       "                (&#x27;train&#x27;,\n",
       "                 GridSearchCV(estimator=DecisionTreeClassifier(),\n",
       "                              param_grid={&#x27;max_depth&#x27;: [None, 1, 2, 3],\n",
       "                                          &#x27;min_samples_split&#x27;: [2, 3, 4]}))])</pre></div></div></div><div class=\"sk-serial\"><div class=\"sk-item sk-dashed-wrapped\"><div class=\"sk-label-container\"><div class=\"sk-label sk-toggleable\"><input class=\"sk-toggleable__control sk-hidden--visually\" id=\"df3eaa1c-cdf1-4c69-a63e-ca4099cbe89c\" type=\"checkbox\" ><label for=\"df3eaa1c-cdf1-4c69-a63e-ca4099cbe89c\" class=\"sk-toggleable__label sk-toggleable__label-arrow\">impute: ColumnTransformer</label><div class=\"sk-toggleable__content\"><pre>ColumnTransformer(remainder=&#x27;passthrough&#x27;,\n",
       "                  transformers=[(&#x27;simpleimputer-1&#x27;,\n",
       "                                 SimpleImputer(strategy=&#x27;most_frequent&#x27;), [0]),\n",
       "                                (&#x27;simpleimputer-2&#x27;,\n",
       "                                 SimpleImputer(strategy=&#x27;most_frequent&#x27;), [1]),\n",
       "                                (&#x27;simpleimputer-3&#x27;,\n",
       "                                 SimpleImputer(strategy=&#x27;most_frequent&#x27;), [2]),\n",
       "                                (&#x27;simpleimputer-4&#x27;,\n",
       "                                 SimpleImputer(strategy=&#x27;most_frequent&#x27;), [3]),\n",
       "                                (&#x27;simpleimputer-5&#x27;,\n",
       "                                 SimpleImputer(strat...\n",
       "                                (&#x27;simpleimputer-6&#x27;,\n",
       "                                 SimpleImputer(strategy=&#x27;median&#x27;), [5]),\n",
       "                                (&#x27;simpleimputer-7&#x27;,\n",
       "                                 SimpleImputer(strategy=&#x27;median&#x27;), [6]),\n",
       "                                (&#x27;simpleimputer-8&#x27;,\n",
       "                                 SimpleImputer(strategy=&#x27;median&#x27;), [7]),\n",
       "                                (&#x27;simpleimputer-9&#x27;,\n",
       "                                 SimpleImputer(strategy=&#x27;most_frequent&#x27;), [8]),\n",
       "                                (&#x27;simpleimputer-10&#x27;,\n",
       "                                 SimpleImputer(strategy=&#x27;most_frequent&#x27;), [9]),\n",
       "                                (&#x27;simpleimputer-11&#x27;,\n",
       "                                 SimpleImputer(strategy=&#x27;most_frequent&#x27;),\n",
       "                                 [10])])</pre></div></div></div><div class=\"sk-parallel\"><div class=\"sk-parallel-item\"><div class=\"sk-item\"><div class=\"sk-label-container\"><div class=\"sk-label sk-toggleable\"><input class=\"sk-toggleable__control sk-hidden--visually\" id=\"a05d5e45-acac-496b-83d6-e86ad33d4a6d\" type=\"checkbox\" ><label for=\"a05d5e45-acac-496b-83d6-e86ad33d4a6d\" class=\"sk-toggleable__label sk-toggleable__label-arrow\">simpleimputer-1</label><div class=\"sk-toggleable__content\"><pre>[0]</pre></div></div></div><div class=\"sk-serial\"><div class=\"sk-item\"><div class=\"sk-estimator sk-toggleable\"><input class=\"sk-toggleable__control sk-hidden--visually\" id=\"64a13bc6-53a4-47dc-913a-2607fda4536c\" type=\"checkbox\" ><label for=\"64a13bc6-53a4-47dc-913a-2607fda4536c\" class=\"sk-toggleable__label sk-toggleable__label-arrow\">SimpleImputer</label><div class=\"sk-toggleable__content\"><pre>SimpleImputer(strategy=&#x27;most_frequent&#x27;)</pre></div></div></div></div></div></div><div class=\"sk-parallel-item\"><div class=\"sk-item\"><div class=\"sk-label-container\"><div class=\"sk-label sk-toggleable\"><input class=\"sk-toggleable__control sk-hidden--visually\" id=\"b89bbbc4-ddaf-495a-9a21-a888645c831a\" type=\"checkbox\" ><label for=\"b89bbbc4-ddaf-495a-9a21-a888645c831a\" class=\"sk-toggleable__label sk-toggleable__label-arrow\">simpleimputer-2</label><div class=\"sk-toggleable__content\"><pre>[1]</pre></div></div></div><div class=\"sk-serial\"><div class=\"sk-item\"><div class=\"sk-estimator sk-toggleable\"><input class=\"sk-toggleable__control sk-hidden--visually\" id=\"8dae1ab9-72e5-4773-8dcb-cf219696de3b\" type=\"checkbox\" ><label for=\"8dae1ab9-72e5-4773-8dcb-cf219696de3b\" class=\"sk-toggleable__label sk-toggleable__label-arrow\">SimpleImputer</label><div class=\"sk-toggleable__content\"><pre>SimpleImputer(strategy=&#x27;most_frequent&#x27;)</pre></div></div></div></div></div></div><div class=\"sk-parallel-item\"><div class=\"sk-item\"><div class=\"sk-label-container\"><div class=\"sk-label sk-toggleable\"><input class=\"sk-toggleable__control sk-hidden--visually\" id=\"64634ff1-5370-497a-82b5-2f4b34026747\" type=\"checkbox\" ><label for=\"64634ff1-5370-497a-82b5-2f4b34026747\" class=\"sk-toggleable__label sk-toggleable__label-arrow\">simpleimputer-3</label><div class=\"sk-toggleable__content\"><pre>[2]</pre></div></div></div><div class=\"sk-serial\"><div class=\"sk-item\"><div class=\"sk-estimator sk-toggleable\"><input class=\"sk-toggleable__control sk-hidden--visually\" id=\"e0ad84a4-9781-470b-b434-a43c41924808\" type=\"checkbox\" ><label for=\"e0ad84a4-9781-470b-b434-a43c41924808\" class=\"sk-toggleable__label sk-toggleable__label-arrow\">SimpleImputer</label><div class=\"sk-toggleable__content\"><pre>SimpleImputer(strategy=&#x27;most_frequent&#x27;)</pre></div></div></div></div></div></div><div class=\"sk-parallel-item\"><div class=\"sk-item\"><div class=\"sk-label-container\"><div class=\"sk-label sk-toggleable\"><input class=\"sk-toggleable__control sk-hidden--visually\" id=\"c2e2d552-f4fd-43b9-b66a-45067868e1da\" type=\"checkbox\" ><label for=\"c2e2d552-f4fd-43b9-b66a-45067868e1da\" class=\"sk-toggleable__label sk-toggleable__label-arrow\">simpleimputer-4</label><div class=\"sk-toggleable__content\"><pre>[3]</pre></div></div></div><div class=\"sk-serial\"><div class=\"sk-item\"><div class=\"sk-estimator sk-toggleable\"><input class=\"sk-toggleable__control sk-hidden--visually\" id=\"10c6a376-2ab3-485a-b762-8465530b96c7\" type=\"checkbox\" ><label for=\"10c6a376-2ab3-485a-b762-8465530b96c7\" class=\"sk-toggleable__label sk-toggleable__label-arrow\">SimpleImputer</label><div class=\"sk-toggleable__content\"><pre>SimpleImputer(strategy=&#x27;most_frequent&#x27;)</pre></div></div></div></div></div></div><div class=\"sk-parallel-item\"><div class=\"sk-item\"><div class=\"sk-label-container\"><div class=\"sk-label sk-toggleable\"><input class=\"sk-toggleable__control sk-hidden--visually\" id=\"481470f1-b13b-4cf5-9cc2-0115bf2d0ee8\" type=\"checkbox\" ><label for=\"481470f1-b13b-4cf5-9cc2-0115bf2d0ee8\" class=\"sk-toggleable__label sk-toggleable__label-arrow\">simpleimputer-5</label><div class=\"sk-toggleable__content\"><pre>[4]</pre></div></div></div><div class=\"sk-serial\"><div class=\"sk-item\"><div class=\"sk-estimator sk-toggleable\"><input class=\"sk-toggleable__control sk-hidden--visually\" id=\"f12e2050-7542-4b45-b429-50b1cdea5bdb\" type=\"checkbox\" ><label for=\"f12e2050-7542-4b45-b429-50b1cdea5bdb\" class=\"sk-toggleable__label sk-toggleable__label-arrow\">SimpleImputer</label><div class=\"sk-toggleable__content\"><pre>SimpleImputer(strategy=&#x27;most_frequent&#x27;)</pre></div></div></div></div></div></div><div class=\"sk-parallel-item\"><div class=\"sk-item\"><div class=\"sk-label-container\"><div class=\"sk-label sk-toggleable\"><input class=\"sk-toggleable__control sk-hidden--visually\" id=\"3fd2cf86-2b4a-4634-ad34-48783b0d8a23\" type=\"checkbox\" ><label for=\"3fd2cf86-2b4a-4634-ad34-48783b0d8a23\" class=\"sk-toggleable__label sk-toggleable__label-arrow\">simpleimputer-6</label><div class=\"sk-toggleable__content\"><pre>[5]</pre></div></div></div><div class=\"sk-serial\"><div class=\"sk-item\"><div class=\"sk-estimator sk-toggleable\"><input class=\"sk-toggleable__control sk-hidden--visually\" id=\"3a9e807a-28a4-4a9c-b430-b1f828d35379\" type=\"checkbox\" ><label for=\"3a9e807a-28a4-4a9c-b430-b1f828d35379\" class=\"sk-toggleable__label sk-toggleable__label-arrow\">SimpleImputer</label><div class=\"sk-toggleable__content\"><pre>SimpleImputer(strategy=&#x27;median&#x27;)</pre></div></div></div></div></div></div><div class=\"sk-parallel-item\"><div class=\"sk-item\"><div class=\"sk-label-container\"><div class=\"sk-label sk-toggleable\"><input class=\"sk-toggleable__control sk-hidden--visually\" id=\"e7c013aa-be1a-4ac7-a4d7-6eee230d3563\" type=\"checkbox\" ><label for=\"e7c013aa-be1a-4ac7-a4d7-6eee230d3563\" class=\"sk-toggleable__label sk-toggleable__label-arrow\">simpleimputer-7</label><div class=\"sk-toggleable__content\"><pre>[6]</pre></div></div></div><div class=\"sk-serial\"><div class=\"sk-item\"><div class=\"sk-estimator sk-toggleable\"><input class=\"sk-toggleable__control sk-hidden--visually\" id=\"2cdb07fa-9878-4539-8c29-c28a04dccc6d\" type=\"checkbox\" ><label for=\"2cdb07fa-9878-4539-8c29-c28a04dccc6d\" class=\"sk-toggleable__label sk-toggleable__label-arrow\">SimpleImputer</label><div class=\"sk-toggleable__content\"><pre>SimpleImputer(strategy=&#x27;median&#x27;)</pre></div></div></div></div></div></div><div class=\"sk-parallel-item\"><div class=\"sk-item\"><div class=\"sk-label-container\"><div class=\"sk-label sk-toggleable\"><input class=\"sk-toggleable__control sk-hidden--visually\" id=\"8eea6e75-b9fc-4071-ab64-3609d4e4f28e\" type=\"checkbox\" ><label for=\"8eea6e75-b9fc-4071-ab64-3609d4e4f28e\" class=\"sk-toggleable__label sk-toggleable__label-arrow\">simpleimputer-8</label><div class=\"sk-toggleable__content\"><pre>[7]</pre></div></div></div><div class=\"sk-serial\"><div class=\"sk-item\"><div class=\"sk-estimator sk-toggleable\"><input class=\"sk-toggleable__control sk-hidden--visually\" id=\"0a3099b2-fc78-4bf9-8ebc-d58346d10388\" type=\"checkbox\" ><label for=\"0a3099b2-fc78-4bf9-8ebc-d58346d10388\" class=\"sk-toggleable__label sk-toggleable__label-arrow\">SimpleImputer</label><div class=\"sk-toggleable__content\"><pre>SimpleImputer(strategy=&#x27;median&#x27;)</pre></div></div></div></div></div></div><div class=\"sk-parallel-item\"><div class=\"sk-item\"><div class=\"sk-label-container\"><div class=\"sk-label sk-toggleable\"><input class=\"sk-toggleable__control sk-hidden--visually\" id=\"43d4c1ec-2b20-42c0-92db-04d90434940f\" type=\"checkbox\" ><label for=\"43d4c1ec-2b20-42c0-92db-04d90434940f\" class=\"sk-toggleable__label sk-toggleable__label-arrow\">simpleimputer-9</label><div class=\"sk-toggleable__content\"><pre>[8]</pre></div></div></div><div class=\"sk-serial\"><div class=\"sk-item\"><div class=\"sk-estimator sk-toggleable\"><input class=\"sk-toggleable__control sk-hidden--visually\" id=\"a8831392-b4ff-4a80-bf95-bfd5b98ea391\" type=\"checkbox\" ><label for=\"a8831392-b4ff-4a80-bf95-bfd5b98ea391\" class=\"sk-toggleable__label sk-toggleable__label-arrow\">SimpleImputer</label><div class=\"sk-toggleable__content\"><pre>SimpleImputer(strategy=&#x27;most_frequent&#x27;)</pre></div></div></div></div></div></div><div class=\"sk-parallel-item\"><div class=\"sk-item\"><div class=\"sk-label-container\"><div class=\"sk-label sk-toggleable\"><input class=\"sk-toggleable__control sk-hidden--visually\" id=\"5fdc59b5-e92c-4713-87d0-5ad7a5ec01b6\" type=\"checkbox\" ><label for=\"5fdc59b5-e92c-4713-87d0-5ad7a5ec01b6\" class=\"sk-toggleable__label sk-toggleable__label-arrow\">simpleimputer-10</label><div class=\"sk-toggleable__content\"><pre>[9]</pre></div></div></div><div class=\"sk-serial\"><div class=\"sk-item\"><div class=\"sk-estimator sk-toggleable\"><input class=\"sk-toggleable__control sk-hidden--visually\" id=\"6743d9d0-dd62-4683-a025-b3231ae4a94f\" type=\"checkbox\" ><label for=\"6743d9d0-dd62-4683-a025-b3231ae4a94f\" class=\"sk-toggleable__label sk-toggleable__label-arrow\">SimpleImputer</label><div class=\"sk-toggleable__content\"><pre>SimpleImputer(strategy=&#x27;most_frequent&#x27;)</pre></div></div></div></div></div></div><div class=\"sk-parallel-item\"><div class=\"sk-item\"><div class=\"sk-label-container\"><div class=\"sk-label sk-toggleable\"><input class=\"sk-toggleable__control sk-hidden--visually\" id=\"148b3ab3-9670-413c-8ea5-799ee84f4eeb\" type=\"checkbox\" ><label for=\"148b3ab3-9670-413c-8ea5-799ee84f4eeb\" class=\"sk-toggleable__label sk-toggleable__label-arrow\">simpleimputer-11</label><div class=\"sk-toggleable__content\"><pre>[10]</pre></div></div></div><div class=\"sk-serial\"><div class=\"sk-item\"><div class=\"sk-estimator sk-toggleable\"><input class=\"sk-toggleable__control sk-hidden--visually\" id=\"c51affd0-44ef-4768-9c0d-f7e1ab75606c\" type=\"checkbox\" ><label for=\"c51affd0-44ef-4768-9c0d-f7e1ab75606c\" class=\"sk-toggleable__label sk-toggleable__label-arrow\">SimpleImputer</label><div class=\"sk-toggleable__content\"><pre>SimpleImputer(strategy=&#x27;most_frequent&#x27;)</pre></div></div></div></div></div></div><div class=\"sk-parallel-item\"><div class=\"sk-item\"><div class=\"sk-label-container\"><div class=\"sk-label sk-toggleable\"><input class=\"sk-toggleable__control sk-hidden--visually\" id=\"ae0e5e84-81f7-4060-b62a-b2162f1a48a2\" type=\"checkbox\" ><label for=\"ae0e5e84-81f7-4060-b62a-b2162f1a48a2\" class=\"sk-toggleable__label sk-toggleable__label-arrow\">remainder</label><div class=\"sk-toggleable__content\"><pre>[]</pre></div></div></div><div class=\"sk-serial\"><div class=\"sk-item\"><div class=\"sk-estimator sk-toggleable\"><input class=\"sk-toggleable__control sk-hidden--visually\" id=\"7165ef7f-00bb-40ab-b0c6-11cd8ad31dbf\" type=\"checkbox\" ><label for=\"7165ef7f-00bb-40ab-b0c6-11cd8ad31dbf\" class=\"sk-toggleable__label sk-toggleable__label-arrow\">passthrough</label><div class=\"sk-toggleable__content\"><pre>passthrough</pre></div></div></div></div></div></div></div></div><div class=\"sk-item sk-dashed-wrapped\"><div class=\"sk-label-container\"><div class=\"sk-label sk-toggleable\"><input class=\"sk-toggleable__control sk-hidden--visually\" id=\"fc13cc1f-1101-4dae-be0e-d4e1ca27d55b\" type=\"checkbox\" ><label for=\"fc13cc1f-1101-4dae-be0e-d4e1ca27d55b\" class=\"sk-toggleable__label sk-toggleable__label-arrow\">encode: ColumnTransformer</label><div class=\"sk-toggleable__content\"><pre>ColumnTransformer(remainder=&#x27;passthrough&#x27;,\n",
       "                  transformers=[(&#x27;onehotencoder&#x27;,\n",
       "                                 OneHotEncoder(handle_unknown=&#x27;ignore&#x27;,\n",
       "                                               sparse=False),\n",
       "                                 [0, 1, 2, 3, 4, 10])])</pre></div></div></div><div class=\"sk-parallel\"><div class=\"sk-parallel-item\"><div class=\"sk-item\"><div class=\"sk-label-container\"><div class=\"sk-label sk-toggleable\"><input class=\"sk-toggleable__control sk-hidden--visually\" id=\"5b52af24-00f9-4ddd-9a03-8129da3bd077\" type=\"checkbox\" ><label for=\"5b52af24-00f9-4ddd-9a03-8129da3bd077\" class=\"sk-toggleable__label sk-toggleable__label-arrow\">onehotencoder</label><div class=\"sk-toggleable__content\"><pre>[0, 1, 2, 3, 4, 10]</pre></div></div></div><div class=\"sk-serial\"><div class=\"sk-item\"><div class=\"sk-estimator sk-toggleable\"><input class=\"sk-toggleable__control sk-hidden--visually\" id=\"be1cda82-1e2a-424e-89cb-a5741f678738\" type=\"checkbox\" ><label for=\"be1cda82-1e2a-424e-89cb-a5741f678738\" class=\"sk-toggleable__label sk-toggleable__label-arrow\">OneHotEncoder</label><div class=\"sk-toggleable__content\"><pre>OneHotEncoder(handle_unknown=&#x27;ignore&#x27;, sparse=False)</pre></div></div></div></div></div></div><div class=\"sk-parallel-item\"><div class=\"sk-item\"><div class=\"sk-label-container\"><div class=\"sk-label sk-toggleable\"><input class=\"sk-toggleable__control sk-hidden--visually\" id=\"78956b03-1f71-4b80-9781-82b5ebfa8c29\" type=\"checkbox\" ><label for=\"78956b03-1f71-4b80-9781-82b5ebfa8c29\" class=\"sk-toggleable__label sk-toggleable__label-arrow\">remainder</label><div class=\"sk-toggleable__content\"><pre>[5, 6, 7, 8, 9]</pre></div></div></div><div class=\"sk-serial\"><div class=\"sk-item\"><div class=\"sk-estimator sk-toggleable\"><input class=\"sk-toggleable__control sk-hidden--visually\" id=\"26f54e5c-caa2-4fdd-9bc4-da46dfd01cd2\" type=\"checkbox\" ><label for=\"26f54e5c-caa2-4fdd-9bc4-da46dfd01cd2\" class=\"sk-toggleable__label sk-toggleable__label-arrow\">passthrough</label><div class=\"sk-toggleable__content\"><pre>passthrough</pre></div></div></div></div></div></div></div></div><div class=\"sk-item sk-dashed-wrapped\"><div class=\"sk-label-container\"><div class=\"sk-label sk-toggleable\"><input class=\"sk-toggleable__control sk-hidden--visually\" id=\"3661e70a-df23-4923-8b7c-e2c1c7876018\" type=\"checkbox\" ><label for=\"3661e70a-df23-4923-8b7c-e2c1c7876018\" class=\"sk-toggleable__label sk-toggleable__label-arrow\">scale: ColumnTransformer</label><div class=\"sk-toggleable__content\"><pre>ColumnTransformer(remainder=&#x27;passthrough&#x27;,\n",
       "                  transformers=[(&#x27;minmaxscaler&#x27;, MinMaxScaler(),\n",
       "                                 [-2, -3, -4, -5])])</pre></div></div></div><div class=\"sk-parallel\"><div class=\"sk-parallel-item\"><div class=\"sk-item\"><div class=\"sk-label-container\"><div class=\"sk-label sk-toggleable\"><input class=\"sk-toggleable__control sk-hidden--visually\" id=\"889e6885-d0a9-4529-8b6e-0d744c9781d5\" type=\"checkbox\" ><label for=\"889e6885-d0a9-4529-8b6e-0d744c9781d5\" class=\"sk-toggleable__label sk-toggleable__label-arrow\">minmaxscaler</label><div class=\"sk-toggleable__content\"><pre>[-2, -3, -4, -5]</pre></div></div></div><div class=\"sk-serial\"><div class=\"sk-item\"><div class=\"sk-estimator sk-toggleable\"><input class=\"sk-toggleable__control sk-hidden--visually\" id=\"b0998b42-f12c-4ec8-9278-ea2d5ee732f3\" type=\"checkbox\" ><label for=\"b0998b42-f12c-4ec8-9278-ea2d5ee732f3\" class=\"sk-toggleable__label sk-toggleable__label-arrow\">MinMaxScaler</label><div class=\"sk-toggleable__content\"><pre>MinMaxScaler()</pre></div></div></div></div></div></div><div class=\"sk-parallel-item\"><div class=\"sk-item\"><div class=\"sk-label-container\"><div class=\"sk-label sk-toggleable\"><input class=\"sk-toggleable__control sk-hidden--visually\" id=\"7a9c47c5-85eb-476b-a9fa-15cf13c3eeef\" type=\"checkbox\" ><label for=\"7a9c47c5-85eb-476b-a9fa-15cf13c3eeef\" class=\"sk-toggleable__label sk-toggleable__label-arrow\">remainder</label><div class=\"sk-toggleable__content\"><pre>[0, 1, 2, 3, 4, 5, 6, 7, 8, 9, 10, 11, 12, 13, 14, 19]</pre></div></div></div><div class=\"sk-serial\"><div class=\"sk-item\"><div class=\"sk-estimator sk-toggleable\"><input class=\"sk-toggleable__control sk-hidden--visually\" id=\"7bb20a9a-5014-43c7-87e8-603f88246c49\" type=\"checkbox\" ><label for=\"7bb20a9a-5014-43c7-87e8-603f88246c49\" class=\"sk-toggleable__label sk-toggleable__label-arrow\">passthrough</label><div class=\"sk-toggleable__content\"><pre>passthrough</pre></div></div></div></div></div></div></div></div><div class=\"sk-item\"><div class=\"sk-estimator sk-toggleable\"><input class=\"sk-toggleable__control sk-hidden--visually\" id=\"d2554177-6f23-4b08-9825-628702965b2a\" type=\"checkbox\" ><label for=\"d2554177-6f23-4b08-9825-628702965b2a\" class=\"sk-toggleable__label sk-toggleable__label-arrow\">SelectKBest</label><div class=\"sk-toggleable__content\"><pre>SelectKBest(score_func=&lt;function chi2 at 0x7f9025bf1320&gt;)</pre></div></div></div><div class=\"sk-item sk-dashed-wrapped\"><div class=\"sk-label-container\"><div class=\"sk-label sk-toggleable\"><input class=\"sk-toggleable__control sk-hidden--visually\" id=\"2a7e68f3-9916-458d-8088-ae53da0f224d\" type=\"checkbox\" ><label for=\"2a7e68f3-9916-458d-8088-ae53da0f224d\" class=\"sk-toggleable__label sk-toggleable__label-arrow\">train: GridSearchCV</label><div class=\"sk-toggleable__content\"><pre>GridSearchCV(estimator=DecisionTreeClassifier(),\n",
       "             param_grid={&#x27;max_depth&#x27;: [None, 1, 2, 3],\n",
       "                         &#x27;min_samples_split&#x27;: [2, 3, 4]})</pre></div></div></div><div class=\"sk-parallel\"><div class=\"sk-parallel-item\"><div class=\"sk-item\"><div class=\"sk-serial\"><div class=\"sk-item\"><div class=\"sk-estimator sk-toggleable\"><input class=\"sk-toggleable__control sk-hidden--visually\" id=\"f8ff700e-6d10-42f9-9355-9dd50550f85b\" type=\"checkbox\" ><label for=\"f8ff700e-6d10-42f9-9355-9dd50550f85b\" class=\"sk-toggleable__label sk-toggleable__label-arrow\">DecisionTreeClassifier</label><div class=\"sk-toggleable__content\"><pre>DecisionTreeClassifier()</pre></div></div></div></div></div></div></div></div></div></div></div></div>"
      ],
      "text/plain": [
       "Pipeline(steps=[('impute',\n",
       "                 ColumnTransformer(remainder='passthrough',\n",
       "                                   transformers=[('simpleimputer-1',\n",
       "                                                  SimpleImputer(strategy='most_frequent'),\n",
       "                                                  [0]),\n",
       "                                                 ('simpleimputer-2',\n",
       "                                                  SimpleImputer(strategy='most_frequent'),\n",
       "                                                  [1]),\n",
       "                                                 ('simpleimputer-3',\n",
       "                                                  SimpleImputer(strategy='most_frequent'),\n",
       "                                                  [2]),\n",
       "                                                 ('simpleimputer-4',\n",
       "                                                  SimpleImputer(strategy='most_frequent'),\n",
       "                                                  [3]),\n",
       "                                                 ('simpleimpu...\n",
       "                                                  OneHotEncoder(handle_unknown='ignore',\n",
       "                                                                sparse=False),\n",
       "                                                  [0, 1, 2, 3, 4, 10])])),\n",
       "                ('scale',\n",
       "                 ColumnTransformer(remainder='passthrough',\n",
       "                                   transformers=[('minmaxscaler',\n",
       "                                                  MinMaxScaler(),\n",
       "                                                  [-2, -3, -4, -5])])),\n",
       "                ('select',\n",
       "                 SelectKBest(score_func=<function chi2 at 0x7f9025bf1320>)),\n",
       "                ('train',\n",
       "                 GridSearchCV(estimator=DecisionTreeClassifier(),\n",
       "                              param_grid={'max_depth': [None, 1, 2, 3],\n",
       "                                          'min_samples_split': [2, 3, 4]}))])"
      ]
     },
     "execution_count": 62,
     "metadata": {},
     "output_type": "execute_result"
    }
   ],
   "source": [
    "# train the model\n",
    "dtpipe.fit(xtrain,ytrain)"
   ]
  },
  {
   "cell_type": "code",
   "execution_count": 63,
   "metadata": {},
   "outputs": [],
   "source": [
    "# Predict\n",
    "ypred = dtpipe.predict(xtest)"
   ]
  },
  {
   "cell_type": "code",
   "execution_count": 64,
   "metadata": {},
   "outputs": [
    {
     "data": {
      "text/plain": [
       "0.7723577235772358"
      ]
     },
     "execution_count": 64,
     "metadata": {},
     "output_type": "execute_result"
    }
   ],
   "source": [
    "from sklearn.metrics import accuracy_score\n",
    "accuracy_score(ytest,ypred)"
   ]
  },
  {
   "cell_type": "code",
   "execution_count": 68,
   "metadata": {},
   "outputs": [
    {
     "data": {
      "text/plain": [
       "{'max_depth': 1, 'min_samples_split': 2}"
      ]
     },
     "execution_count": 68,
     "metadata": {},
     "output_type": "execute_result"
    }
   ],
   "source": [
    "# to check the best parameters used by GridSearchCV\n",
    "dtpipe.named_steps['train'].best_params_"
   ]
  },
  {
   "cell_type": "markdown",
   "metadata": {
    "colab": {
     "base_uri": "https://localhost:8080/"
    },
    "id": "swWiCMPFJ2FZ",
    "outputId": "54a3fd25-017c-4671-8e3a-e4953f7e88ab"
   },
   "source": [
    "### Note:\n",
    "* #### The feature selection is affecting the accuracy of the model in this case. \n",
    "* #### We can also improve the accuracy by tuning the Decision Tree"
   ]
  },
  {
   "cell_type": "markdown",
   "metadata": {},
   "source": [
    "## Save the Model"
   ]
  },
  {
   "cell_type": "code",
   "execution_count": 71,
   "metadata": {},
   "outputs": [],
   "source": [
    "import pickle\n",
    "pickle.dump(dtpipe,open('pipe.pkl','wb'))"
   ]
  },
  {
   "cell_type": "markdown",
   "metadata": {
    "id": "wehUoyL_J2Fa"
   },
   "source": [
    "    "
   ]
  },
  {
   "cell_type": "markdown",
   "metadata": {},
   "source": [
    "## Cross Validation using Pipeline"
   ]
  },
  {
   "cell_type": "markdown",
   "metadata": {},
   "source": [
    "Cross validation can be used on the entire pipeline. \n",
    "Let' take for e.g. `for CV=5`\n",
    "1. First the xtrain is split into 5 pieces. 4/5th is used for training data and 1/5th is used for testing data.\n",
    "2. On the training data it does all steps from 1 to 4 and step 5 to fit the model.\n",
    "3. on the 1/5th testing data it does steps from 1 to 4 and uses the model to make predictions. And then it calculates the accuracy.\n",
    "4. This process is repeated 4 more times for other holds (since CV=5).\n",
    "5. The average accuracy score is returned."
   ]
  },
  {
   "cell_type": "code",
   "execution_count": 31,
   "metadata": {},
   "outputs": [
    {
     "data": {
      "text/plain": [
       "0.7210678210678211"
      ]
     },
     "execution_count": 31,
     "metadata": {},
     "output_type": "execute_result"
    }
   ],
   "source": [
    "# cross validation using cross_val_score\n",
    "from sklearn.model_selection import cross_val_score\n",
    "cross_val_score(dtpipe, xtrain, ytrain, cv=5, scoring='accuracy').mean()"
   ]
  },
  {
   "cell_type": "markdown",
   "metadata": {},
   "source": [
    "Here we have used only xtrain. However, CV is done on the entire dataset before train, test split. CV is prefered when the number of observations is too less. since we cannot afford a split with a smaller dataset.\n",
    "Since the random_state in train_test_split function can create different splits everytime resulting in different scores. That is why we use CV to perform that train_test_split in 5 different ways (with CV=5) and calculate mean score."
   ]
  },
  {
   "cell_type": "markdown",
   "metadata": {},
   "source": [
    "    "
   ]
  },
  {
   "cell_type": "markdown",
   "metadata": {},
   "source": [
    "## GridSearch using Pipeline\n",
    "\n",
    "For GridSearch we need the names of the transformers used in the pipe. That is why it is better to use Pipeline 1 syntax."
   ]
  },
  {
   "cell_type": "code",
   "execution_count": 32,
   "metadata": {},
   "outputs": [],
   "source": [
    "pipe = Pipeline([\n",
    "    ('impute',step1),\n",
    "    ('encode',step2),\n",
    "    ('scale',step3),\n",
    "    ('select',step4),\n",
    "    ('train',step5)\n",
    "])"
   ]
  },
  {
   "cell_type": "code",
   "execution_count": 42,
   "metadata": {},
   "outputs": [
    {
     "data": {
      "text/html": [
       "<style>#sk-82c87dfb-2dae-49be-a772-3976d1c949d9 {color: black;background-color: white;}#sk-82c87dfb-2dae-49be-a772-3976d1c949d9 pre{padding: 0;}#sk-82c87dfb-2dae-49be-a772-3976d1c949d9 div.sk-toggleable {background-color: white;}#sk-82c87dfb-2dae-49be-a772-3976d1c949d9 label.sk-toggleable__label {cursor: pointer;display: block;width: 100%;margin-bottom: 0;padding: 0.3em;box-sizing: border-box;text-align: center;}#sk-82c87dfb-2dae-49be-a772-3976d1c949d9 label.sk-toggleable__label-arrow:before {content: \"▸\";float: left;margin-right: 0.25em;color: #696969;}#sk-82c87dfb-2dae-49be-a772-3976d1c949d9 label.sk-toggleable__label-arrow:hover:before {color: black;}#sk-82c87dfb-2dae-49be-a772-3976d1c949d9 div.sk-estimator:hover label.sk-toggleable__label-arrow:before {color: black;}#sk-82c87dfb-2dae-49be-a772-3976d1c949d9 div.sk-toggleable__content {max-height: 0;max-width: 0;overflow: hidden;text-align: left;background-color: #f0f8ff;}#sk-82c87dfb-2dae-49be-a772-3976d1c949d9 div.sk-toggleable__content pre {margin: 0.2em;color: black;border-radius: 0.25em;background-color: #f0f8ff;}#sk-82c87dfb-2dae-49be-a772-3976d1c949d9 input.sk-toggleable__control:checked~div.sk-toggleable__content {max-height: 200px;max-width: 100%;overflow: auto;}#sk-82c87dfb-2dae-49be-a772-3976d1c949d9 input.sk-toggleable__control:checked~label.sk-toggleable__label-arrow:before {content: \"▾\";}#sk-82c87dfb-2dae-49be-a772-3976d1c949d9 div.sk-estimator input.sk-toggleable__control:checked~label.sk-toggleable__label {background-color: #d4ebff;}#sk-82c87dfb-2dae-49be-a772-3976d1c949d9 div.sk-label input.sk-toggleable__control:checked~label.sk-toggleable__label {background-color: #d4ebff;}#sk-82c87dfb-2dae-49be-a772-3976d1c949d9 input.sk-hidden--visually {border: 0;clip: rect(1px 1px 1px 1px);clip: rect(1px, 1px, 1px, 1px);height: 1px;margin: -1px;overflow: hidden;padding: 0;position: absolute;width: 1px;}#sk-82c87dfb-2dae-49be-a772-3976d1c949d9 div.sk-estimator {font-family: monospace;background-color: #f0f8ff;border: 1px dotted black;border-radius: 0.25em;box-sizing: border-box;margin-bottom: 0.5em;}#sk-82c87dfb-2dae-49be-a772-3976d1c949d9 div.sk-estimator:hover {background-color: #d4ebff;}#sk-82c87dfb-2dae-49be-a772-3976d1c949d9 div.sk-parallel-item::after {content: \"\";width: 100%;border-bottom: 1px solid gray;flex-grow: 1;}#sk-82c87dfb-2dae-49be-a772-3976d1c949d9 div.sk-label:hover label.sk-toggleable__label {background-color: #d4ebff;}#sk-82c87dfb-2dae-49be-a772-3976d1c949d9 div.sk-serial::before {content: \"\";position: absolute;border-left: 1px solid gray;box-sizing: border-box;top: 2em;bottom: 0;left: 50%;}#sk-82c87dfb-2dae-49be-a772-3976d1c949d9 div.sk-serial {display: flex;flex-direction: column;align-items: center;background-color: white;padding-right: 0.2em;padding-left: 0.2em;}#sk-82c87dfb-2dae-49be-a772-3976d1c949d9 div.sk-item {z-index: 1;}#sk-82c87dfb-2dae-49be-a772-3976d1c949d9 div.sk-parallel {display: flex;align-items: stretch;justify-content: center;background-color: white;}#sk-82c87dfb-2dae-49be-a772-3976d1c949d9 div.sk-parallel::before {content: \"\";position: absolute;border-left: 1px solid gray;box-sizing: border-box;top: 2em;bottom: 0;left: 50%;}#sk-82c87dfb-2dae-49be-a772-3976d1c949d9 div.sk-parallel-item {display: flex;flex-direction: column;position: relative;background-color: white;}#sk-82c87dfb-2dae-49be-a772-3976d1c949d9 div.sk-parallel-item:first-child::after {align-self: flex-end;width: 50%;}#sk-82c87dfb-2dae-49be-a772-3976d1c949d9 div.sk-parallel-item:last-child::after {align-self: flex-start;width: 50%;}#sk-82c87dfb-2dae-49be-a772-3976d1c949d9 div.sk-parallel-item:only-child::after {width: 0;}#sk-82c87dfb-2dae-49be-a772-3976d1c949d9 div.sk-dashed-wrapped {border: 1px dashed gray;margin: 0 0.4em 0.5em 0.4em;box-sizing: border-box;padding-bottom: 0.4em;background-color: white;position: relative;}#sk-82c87dfb-2dae-49be-a772-3976d1c949d9 div.sk-label label {font-family: monospace;font-weight: bold;background-color: white;display: inline-block;line-height: 1.2em;}#sk-82c87dfb-2dae-49be-a772-3976d1c949d9 div.sk-label-container {position: relative;z-index: 2;text-align: center;}#sk-82c87dfb-2dae-49be-a772-3976d1c949d9 div.sk-container {/* jupyter's `normalize.less` sets `[hidden] { display: none; }` but bootstrap.min.css set `[hidden] { display: none !important; }` so we also need the `!important` here to be able to override the default hidden behavior on the sphinx rendered scikit-learn.org. See: https://github.com/scikit-learn/scikit-learn/issues/21755 */display: inline-block !important;position: relative;}#sk-82c87dfb-2dae-49be-a772-3976d1c949d9 div.sk-text-repr-fallback {display: none;}</style><div id=\"sk-82c87dfb-2dae-49be-a772-3976d1c949d9\" class=\"sk-top-container\"><div class=\"sk-text-repr-fallback\"><pre>Pipeline(steps=[(&#x27;impute&#x27;,\n",
       "                 ColumnTransformer(remainder=&#x27;passthrough&#x27;,\n",
       "                                   transformers=[(&#x27;simpleimputer-1&#x27;,\n",
       "                                                  SimpleImputer(strategy=&#x27;most_frequent&#x27;),\n",
       "                                                  [0]),\n",
       "                                                 (&#x27;simpleimputer-2&#x27;,\n",
       "                                                  SimpleImputer(strategy=&#x27;most_frequent&#x27;),\n",
       "                                                  [1]),\n",
       "                                                 (&#x27;simpleimputer-3&#x27;,\n",
       "                                                  SimpleImputer(strategy=&#x27;most_frequent&#x27;),\n",
       "                                                  [2]),\n",
       "                                                 (&#x27;simpleimputer-4&#x27;,\n",
       "                                                  SimpleImputer(strategy=&#x27;most_frequent&#x27;),\n",
       "                                                  [3]),\n",
       "                                                 (&#x27;simpleimpu...\n",
       "                 ColumnTransformer(remainder=&#x27;passthrough&#x27;,\n",
       "                                   transformers=[(&#x27;onehotencoder&#x27;,\n",
       "                                                  OneHotEncoder(handle_unknown=&#x27;ignore&#x27;,\n",
       "                                                                sparse=False),\n",
       "                                                  [0, 1, 2, 3, 4, 10])])),\n",
       "                (&#x27;scale&#x27;,\n",
       "                 ColumnTransformer(remainder=&#x27;passthrough&#x27;,\n",
       "                                   transformers=[(&#x27;minmaxscaler&#x27;,\n",
       "                                                  MinMaxScaler(),\n",
       "                                                  [-2, -3, -4, -5])])),\n",
       "                (&#x27;select&#x27;,\n",
       "                 SelectKBest(score_func=&lt;function chi2 at 0x7ff35c3f0320&gt;)),\n",
       "                (&#x27;train&#x27;, DecisionTreeClassifier())])</pre><b>Please rerun this cell to show the HTML repr or trust the notebook.</b></div><div class=\"sk-container\" hidden><div class=\"sk-item sk-dashed-wrapped\"><div class=\"sk-label-container\"><div class=\"sk-label sk-toggleable\"><input class=\"sk-toggleable__control sk-hidden--visually\" id=\"218b8621-8f2c-4ace-8bc2-929128ec0a2d\" type=\"checkbox\" ><label for=\"218b8621-8f2c-4ace-8bc2-929128ec0a2d\" class=\"sk-toggleable__label sk-toggleable__label-arrow\">Pipeline</label><div class=\"sk-toggleable__content\"><pre>Pipeline(steps=[(&#x27;impute&#x27;,\n",
       "                 ColumnTransformer(remainder=&#x27;passthrough&#x27;,\n",
       "                                   transformers=[(&#x27;simpleimputer-1&#x27;,\n",
       "                                                  SimpleImputer(strategy=&#x27;most_frequent&#x27;),\n",
       "                                                  [0]),\n",
       "                                                 (&#x27;simpleimputer-2&#x27;,\n",
       "                                                  SimpleImputer(strategy=&#x27;most_frequent&#x27;),\n",
       "                                                  [1]),\n",
       "                                                 (&#x27;simpleimputer-3&#x27;,\n",
       "                                                  SimpleImputer(strategy=&#x27;most_frequent&#x27;),\n",
       "                                                  [2]),\n",
       "                                                 (&#x27;simpleimputer-4&#x27;,\n",
       "                                                  SimpleImputer(strategy=&#x27;most_frequent&#x27;),\n",
       "                                                  [3]),\n",
       "                                                 (&#x27;simpleimpu...\n",
       "                 ColumnTransformer(remainder=&#x27;passthrough&#x27;,\n",
       "                                   transformers=[(&#x27;onehotencoder&#x27;,\n",
       "                                                  OneHotEncoder(handle_unknown=&#x27;ignore&#x27;,\n",
       "                                                                sparse=False),\n",
       "                                                  [0, 1, 2, 3, 4, 10])])),\n",
       "                (&#x27;scale&#x27;,\n",
       "                 ColumnTransformer(remainder=&#x27;passthrough&#x27;,\n",
       "                                   transformers=[(&#x27;minmaxscaler&#x27;,\n",
       "                                                  MinMaxScaler(),\n",
       "                                                  [-2, -3, -4, -5])])),\n",
       "                (&#x27;select&#x27;,\n",
       "                 SelectKBest(score_func=&lt;function chi2 at 0x7ff35c3f0320&gt;)),\n",
       "                (&#x27;train&#x27;, DecisionTreeClassifier())])</pre></div></div></div><div class=\"sk-serial\"><div class=\"sk-item sk-dashed-wrapped\"><div class=\"sk-label-container\"><div class=\"sk-label sk-toggleable\"><input class=\"sk-toggleable__control sk-hidden--visually\" id=\"965fb3f7-2e46-4572-958d-c3b0154d4ec4\" type=\"checkbox\" ><label for=\"965fb3f7-2e46-4572-958d-c3b0154d4ec4\" class=\"sk-toggleable__label sk-toggleable__label-arrow\">impute: ColumnTransformer</label><div class=\"sk-toggleable__content\"><pre>ColumnTransformer(remainder=&#x27;passthrough&#x27;,\n",
       "                  transformers=[(&#x27;simpleimputer-1&#x27;,\n",
       "                                 SimpleImputer(strategy=&#x27;most_frequent&#x27;), [0]),\n",
       "                                (&#x27;simpleimputer-2&#x27;,\n",
       "                                 SimpleImputer(strategy=&#x27;most_frequent&#x27;), [1]),\n",
       "                                (&#x27;simpleimputer-3&#x27;,\n",
       "                                 SimpleImputer(strategy=&#x27;most_frequent&#x27;), [2]),\n",
       "                                (&#x27;simpleimputer-4&#x27;,\n",
       "                                 SimpleImputer(strategy=&#x27;most_frequent&#x27;), [3]),\n",
       "                                (&#x27;simpleimputer-5&#x27;,\n",
       "                                 SimpleImputer(strat...\n",
       "                                (&#x27;simpleimputer-6&#x27;,\n",
       "                                 SimpleImputer(strategy=&#x27;median&#x27;), [5]),\n",
       "                                (&#x27;simpleimputer-7&#x27;,\n",
       "                                 SimpleImputer(strategy=&#x27;median&#x27;), [6]),\n",
       "                                (&#x27;simpleimputer-8&#x27;,\n",
       "                                 SimpleImputer(strategy=&#x27;median&#x27;), [7]),\n",
       "                                (&#x27;simpleimputer-9&#x27;,\n",
       "                                 SimpleImputer(strategy=&#x27;most_frequent&#x27;), [8]),\n",
       "                                (&#x27;simpleimputer-10&#x27;,\n",
       "                                 SimpleImputer(strategy=&#x27;most_frequent&#x27;), [9]),\n",
       "                                (&#x27;simpleimputer-11&#x27;,\n",
       "                                 SimpleImputer(strategy=&#x27;most_frequent&#x27;),\n",
       "                                 [10])])</pre></div></div></div><div class=\"sk-parallel\"><div class=\"sk-parallel-item\"><div class=\"sk-item\"><div class=\"sk-label-container\"><div class=\"sk-label sk-toggleable\"><input class=\"sk-toggleable__control sk-hidden--visually\" id=\"b08088e8-a733-4a9c-b694-983dd66acfe2\" type=\"checkbox\" ><label for=\"b08088e8-a733-4a9c-b694-983dd66acfe2\" class=\"sk-toggleable__label sk-toggleable__label-arrow\">simpleimputer-1</label><div class=\"sk-toggleable__content\"><pre>[0]</pre></div></div></div><div class=\"sk-serial\"><div class=\"sk-item\"><div class=\"sk-estimator sk-toggleable\"><input class=\"sk-toggleable__control sk-hidden--visually\" id=\"717fb9da-88ba-4702-a913-7f7bca01edc9\" type=\"checkbox\" ><label for=\"717fb9da-88ba-4702-a913-7f7bca01edc9\" class=\"sk-toggleable__label sk-toggleable__label-arrow\">SimpleImputer</label><div class=\"sk-toggleable__content\"><pre>SimpleImputer(strategy=&#x27;most_frequent&#x27;)</pre></div></div></div></div></div></div><div class=\"sk-parallel-item\"><div class=\"sk-item\"><div class=\"sk-label-container\"><div class=\"sk-label sk-toggleable\"><input class=\"sk-toggleable__control sk-hidden--visually\" id=\"fe54b16d-6d66-4f01-8ca5-11a05b1f6789\" type=\"checkbox\" ><label for=\"fe54b16d-6d66-4f01-8ca5-11a05b1f6789\" class=\"sk-toggleable__label sk-toggleable__label-arrow\">simpleimputer-2</label><div class=\"sk-toggleable__content\"><pre>[1]</pre></div></div></div><div class=\"sk-serial\"><div class=\"sk-item\"><div class=\"sk-estimator sk-toggleable\"><input class=\"sk-toggleable__control sk-hidden--visually\" id=\"d11efe7d-2a8e-4a65-ba61-208927442c4c\" type=\"checkbox\" ><label for=\"d11efe7d-2a8e-4a65-ba61-208927442c4c\" class=\"sk-toggleable__label sk-toggleable__label-arrow\">SimpleImputer</label><div class=\"sk-toggleable__content\"><pre>SimpleImputer(strategy=&#x27;most_frequent&#x27;)</pre></div></div></div></div></div></div><div class=\"sk-parallel-item\"><div class=\"sk-item\"><div class=\"sk-label-container\"><div class=\"sk-label sk-toggleable\"><input class=\"sk-toggleable__control sk-hidden--visually\" id=\"14d2ecf8-5f88-486e-8622-cbdabb520fe0\" type=\"checkbox\" ><label for=\"14d2ecf8-5f88-486e-8622-cbdabb520fe0\" class=\"sk-toggleable__label sk-toggleable__label-arrow\">simpleimputer-3</label><div class=\"sk-toggleable__content\"><pre>[2]</pre></div></div></div><div class=\"sk-serial\"><div class=\"sk-item\"><div class=\"sk-estimator sk-toggleable\"><input class=\"sk-toggleable__control sk-hidden--visually\" id=\"a6cc6300-d451-4aaa-8067-64bb3f0d4dbc\" type=\"checkbox\" ><label for=\"a6cc6300-d451-4aaa-8067-64bb3f0d4dbc\" class=\"sk-toggleable__label sk-toggleable__label-arrow\">SimpleImputer</label><div class=\"sk-toggleable__content\"><pre>SimpleImputer(strategy=&#x27;most_frequent&#x27;)</pre></div></div></div></div></div></div><div class=\"sk-parallel-item\"><div class=\"sk-item\"><div class=\"sk-label-container\"><div class=\"sk-label sk-toggleable\"><input class=\"sk-toggleable__control sk-hidden--visually\" id=\"d6ed4dc3-adb6-49fd-879f-7f88ec006827\" type=\"checkbox\" ><label for=\"d6ed4dc3-adb6-49fd-879f-7f88ec006827\" class=\"sk-toggleable__label sk-toggleable__label-arrow\">simpleimputer-4</label><div class=\"sk-toggleable__content\"><pre>[3]</pre></div></div></div><div class=\"sk-serial\"><div class=\"sk-item\"><div class=\"sk-estimator sk-toggleable\"><input class=\"sk-toggleable__control sk-hidden--visually\" id=\"fb033f57-2eb9-4ee6-ade8-07b1ff7d3a49\" type=\"checkbox\" ><label for=\"fb033f57-2eb9-4ee6-ade8-07b1ff7d3a49\" class=\"sk-toggleable__label sk-toggleable__label-arrow\">SimpleImputer</label><div class=\"sk-toggleable__content\"><pre>SimpleImputer(strategy=&#x27;most_frequent&#x27;)</pre></div></div></div></div></div></div><div class=\"sk-parallel-item\"><div class=\"sk-item\"><div class=\"sk-label-container\"><div class=\"sk-label sk-toggleable\"><input class=\"sk-toggleable__control sk-hidden--visually\" id=\"2b070f96-996a-414c-bd85-5719412029bb\" type=\"checkbox\" ><label for=\"2b070f96-996a-414c-bd85-5719412029bb\" class=\"sk-toggleable__label sk-toggleable__label-arrow\">simpleimputer-5</label><div class=\"sk-toggleable__content\"><pre>[4]</pre></div></div></div><div class=\"sk-serial\"><div class=\"sk-item\"><div class=\"sk-estimator sk-toggleable\"><input class=\"sk-toggleable__control sk-hidden--visually\" id=\"752b7096-c31b-4700-8814-f1082eee69f2\" type=\"checkbox\" ><label for=\"752b7096-c31b-4700-8814-f1082eee69f2\" class=\"sk-toggleable__label sk-toggleable__label-arrow\">SimpleImputer</label><div class=\"sk-toggleable__content\"><pre>SimpleImputer(strategy=&#x27;most_frequent&#x27;)</pre></div></div></div></div></div></div><div class=\"sk-parallel-item\"><div class=\"sk-item\"><div class=\"sk-label-container\"><div class=\"sk-label sk-toggleable\"><input class=\"sk-toggleable__control sk-hidden--visually\" id=\"e6afe0e1-6b86-48b4-a8a9-f158c7f7cfda\" type=\"checkbox\" ><label for=\"e6afe0e1-6b86-48b4-a8a9-f158c7f7cfda\" class=\"sk-toggleable__label sk-toggleable__label-arrow\">simpleimputer-6</label><div class=\"sk-toggleable__content\"><pre>[5]</pre></div></div></div><div class=\"sk-serial\"><div class=\"sk-item\"><div class=\"sk-estimator sk-toggleable\"><input class=\"sk-toggleable__control sk-hidden--visually\" id=\"7027a674-3cbe-4298-bdfe-a4b2170e4031\" type=\"checkbox\" ><label for=\"7027a674-3cbe-4298-bdfe-a4b2170e4031\" class=\"sk-toggleable__label sk-toggleable__label-arrow\">SimpleImputer</label><div class=\"sk-toggleable__content\"><pre>SimpleImputer(strategy=&#x27;median&#x27;)</pre></div></div></div></div></div></div><div class=\"sk-parallel-item\"><div class=\"sk-item\"><div class=\"sk-label-container\"><div class=\"sk-label sk-toggleable\"><input class=\"sk-toggleable__control sk-hidden--visually\" id=\"760f9b6e-17ab-4b88-82e1-cbe562f53521\" type=\"checkbox\" ><label for=\"760f9b6e-17ab-4b88-82e1-cbe562f53521\" class=\"sk-toggleable__label sk-toggleable__label-arrow\">simpleimputer-7</label><div class=\"sk-toggleable__content\"><pre>[6]</pre></div></div></div><div class=\"sk-serial\"><div class=\"sk-item\"><div class=\"sk-estimator sk-toggleable\"><input class=\"sk-toggleable__control sk-hidden--visually\" id=\"91446586-ac78-4b08-a7b5-7d3d683f0b1c\" type=\"checkbox\" ><label for=\"91446586-ac78-4b08-a7b5-7d3d683f0b1c\" class=\"sk-toggleable__label sk-toggleable__label-arrow\">SimpleImputer</label><div class=\"sk-toggleable__content\"><pre>SimpleImputer(strategy=&#x27;median&#x27;)</pre></div></div></div></div></div></div><div class=\"sk-parallel-item\"><div class=\"sk-item\"><div class=\"sk-label-container\"><div class=\"sk-label sk-toggleable\"><input class=\"sk-toggleable__control sk-hidden--visually\" id=\"bb4fdf7b-45b2-4137-83ab-cde685e362f7\" type=\"checkbox\" ><label for=\"bb4fdf7b-45b2-4137-83ab-cde685e362f7\" class=\"sk-toggleable__label sk-toggleable__label-arrow\">simpleimputer-8</label><div class=\"sk-toggleable__content\"><pre>[7]</pre></div></div></div><div class=\"sk-serial\"><div class=\"sk-item\"><div class=\"sk-estimator sk-toggleable\"><input class=\"sk-toggleable__control sk-hidden--visually\" id=\"7dc7a4ad-6aaa-4aa0-a9f3-28c938aaeccb\" type=\"checkbox\" ><label for=\"7dc7a4ad-6aaa-4aa0-a9f3-28c938aaeccb\" class=\"sk-toggleable__label sk-toggleable__label-arrow\">SimpleImputer</label><div class=\"sk-toggleable__content\"><pre>SimpleImputer(strategy=&#x27;median&#x27;)</pre></div></div></div></div></div></div><div class=\"sk-parallel-item\"><div class=\"sk-item\"><div class=\"sk-label-container\"><div class=\"sk-label sk-toggleable\"><input class=\"sk-toggleable__control sk-hidden--visually\" id=\"2d5b3679-946c-4d82-9893-49f662fe3b20\" type=\"checkbox\" ><label for=\"2d5b3679-946c-4d82-9893-49f662fe3b20\" class=\"sk-toggleable__label sk-toggleable__label-arrow\">simpleimputer-9</label><div class=\"sk-toggleable__content\"><pre>[8]</pre></div></div></div><div class=\"sk-serial\"><div class=\"sk-item\"><div class=\"sk-estimator sk-toggleable\"><input class=\"sk-toggleable__control sk-hidden--visually\" id=\"41e23385-d4d9-4d2e-b296-d7503c85a97c\" type=\"checkbox\" ><label for=\"41e23385-d4d9-4d2e-b296-d7503c85a97c\" class=\"sk-toggleable__label sk-toggleable__label-arrow\">SimpleImputer</label><div class=\"sk-toggleable__content\"><pre>SimpleImputer(strategy=&#x27;most_frequent&#x27;)</pre></div></div></div></div></div></div><div class=\"sk-parallel-item\"><div class=\"sk-item\"><div class=\"sk-label-container\"><div class=\"sk-label sk-toggleable\"><input class=\"sk-toggleable__control sk-hidden--visually\" id=\"8a512cfa-d084-4b4e-aef9-a21527715104\" type=\"checkbox\" ><label for=\"8a512cfa-d084-4b4e-aef9-a21527715104\" class=\"sk-toggleable__label sk-toggleable__label-arrow\">simpleimputer-10</label><div class=\"sk-toggleable__content\"><pre>[9]</pre></div></div></div><div class=\"sk-serial\"><div class=\"sk-item\"><div class=\"sk-estimator sk-toggleable\"><input class=\"sk-toggleable__control sk-hidden--visually\" id=\"4803e284-fb1d-40c9-b321-1fad12b65465\" type=\"checkbox\" ><label for=\"4803e284-fb1d-40c9-b321-1fad12b65465\" class=\"sk-toggleable__label sk-toggleable__label-arrow\">SimpleImputer</label><div class=\"sk-toggleable__content\"><pre>SimpleImputer(strategy=&#x27;most_frequent&#x27;)</pre></div></div></div></div></div></div><div class=\"sk-parallel-item\"><div class=\"sk-item\"><div class=\"sk-label-container\"><div class=\"sk-label sk-toggleable\"><input class=\"sk-toggleable__control sk-hidden--visually\" id=\"0b0b8779-7857-45ae-9762-85a52eecfd08\" type=\"checkbox\" ><label for=\"0b0b8779-7857-45ae-9762-85a52eecfd08\" class=\"sk-toggleable__label sk-toggleable__label-arrow\">simpleimputer-11</label><div class=\"sk-toggleable__content\"><pre>[10]</pre></div></div></div><div class=\"sk-serial\"><div class=\"sk-item\"><div class=\"sk-estimator sk-toggleable\"><input class=\"sk-toggleable__control sk-hidden--visually\" id=\"488bb21c-9b8f-4aa9-a1ce-839680d3acef\" type=\"checkbox\" ><label for=\"488bb21c-9b8f-4aa9-a1ce-839680d3acef\" class=\"sk-toggleable__label sk-toggleable__label-arrow\">SimpleImputer</label><div class=\"sk-toggleable__content\"><pre>SimpleImputer(strategy=&#x27;most_frequent&#x27;)</pre></div></div></div></div></div></div><div class=\"sk-parallel-item\"><div class=\"sk-item\"><div class=\"sk-label-container\"><div class=\"sk-label sk-toggleable\"><input class=\"sk-toggleable__control sk-hidden--visually\" id=\"68d747d5-1b89-4c1e-95f6-4c7f7fe56e4d\" type=\"checkbox\" ><label for=\"68d747d5-1b89-4c1e-95f6-4c7f7fe56e4d\" class=\"sk-toggleable__label sk-toggleable__label-arrow\">remainder</label><div class=\"sk-toggleable__content\"><pre>[]</pre></div></div></div><div class=\"sk-serial\"><div class=\"sk-item\"><div class=\"sk-estimator sk-toggleable\"><input class=\"sk-toggleable__control sk-hidden--visually\" id=\"3046aa58-4e8f-4423-be71-2c8306ddb3dc\" type=\"checkbox\" ><label for=\"3046aa58-4e8f-4423-be71-2c8306ddb3dc\" class=\"sk-toggleable__label sk-toggleable__label-arrow\">passthrough</label><div class=\"sk-toggleable__content\"><pre>passthrough</pre></div></div></div></div></div></div></div></div><div class=\"sk-item sk-dashed-wrapped\"><div class=\"sk-label-container\"><div class=\"sk-label sk-toggleable\"><input class=\"sk-toggleable__control sk-hidden--visually\" id=\"e42041bb-3523-43b4-aac7-aeb8e5118c17\" type=\"checkbox\" ><label for=\"e42041bb-3523-43b4-aac7-aeb8e5118c17\" class=\"sk-toggleable__label sk-toggleable__label-arrow\">encode: ColumnTransformer</label><div class=\"sk-toggleable__content\"><pre>ColumnTransformer(remainder=&#x27;passthrough&#x27;,\n",
       "                  transformers=[(&#x27;onehotencoder&#x27;,\n",
       "                                 OneHotEncoder(handle_unknown=&#x27;ignore&#x27;,\n",
       "                                               sparse=False),\n",
       "                                 [0, 1, 2, 3, 4, 10])])</pre></div></div></div><div class=\"sk-parallel\"><div class=\"sk-parallel-item\"><div class=\"sk-item\"><div class=\"sk-label-container\"><div class=\"sk-label sk-toggleable\"><input class=\"sk-toggleable__control sk-hidden--visually\" id=\"c747ccd7-ce5a-453c-bc85-f32e18446e40\" type=\"checkbox\" ><label for=\"c747ccd7-ce5a-453c-bc85-f32e18446e40\" class=\"sk-toggleable__label sk-toggleable__label-arrow\">onehotencoder</label><div class=\"sk-toggleable__content\"><pre>[0, 1, 2, 3, 4, 10]</pre></div></div></div><div class=\"sk-serial\"><div class=\"sk-item\"><div class=\"sk-estimator sk-toggleable\"><input class=\"sk-toggleable__control sk-hidden--visually\" id=\"32c6621e-d088-4f05-8e5b-2a5073e7a67d\" type=\"checkbox\" ><label for=\"32c6621e-d088-4f05-8e5b-2a5073e7a67d\" class=\"sk-toggleable__label sk-toggleable__label-arrow\">OneHotEncoder</label><div class=\"sk-toggleable__content\"><pre>OneHotEncoder(handle_unknown=&#x27;ignore&#x27;, sparse=False)</pre></div></div></div></div></div></div><div class=\"sk-parallel-item\"><div class=\"sk-item\"><div class=\"sk-label-container\"><div class=\"sk-label sk-toggleable\"><input class=\"sk-toggleable__control sk-hidden--visually\" id=\"65de6679-c4a6-4ee4-993e-ad13842f6c2e\" type=\"checkbox\" ><label for=\"65de6679-c4a6-4ee4-993e-ad13842f6c2e\" class=\"sk-toggleable__label sk-toggleable__label-arrow\">remainder</label><div class=\"sk-toggleable__content\"><pre>[5, 6, 7, 8, 9]</pre></div></div></div><div class=\"sk-serial\"><div class=\"sk-item\"><div class=\"sk-estimator sk-toggleable\"><input class=\"sk-toggleable__control sk-hidden--visually\" id=\"39a12997-f63b-4062-aafc-10b01bdd7493\" type=\"checkbox\" ><label for=\"39a12997-f63b-4062-aafc-10b01bdd7493\" class=\"sk-toggleable__label sk-toggleable__label-arrow\">passthrough</label><div class=\"sk-toggleable__content\"><pre>passthrough</pre></div></div></div></div></div></div></div></div><div class=\"sk-item sk-dashed-wrapped\"><div class=\"sk-label-container\"><div class=\"sk-label sk-toggleable\"><input class=\"sk-toggleable__control sk-hidden--visually\" id=\"43200768-cbef-479c-a343-17b4a9bdd7e8\" type=\"checkbox\" ><label for=\"43200768-cbef-479c-a343-17b4a9bdd7e8\" class=\"sk-toggleable__label sk-toggleable__label-arrow\">scale: ColumnTransformer</label><div class=\"sk-toggleable__content\"><pre>ColumnTransformer(remainder=&#x27;passthrough&#x27;,\n",
       "                  transformers=[(&#x27;minmaxscaler&#x27;, MinMaxScaler(),\n",
       "                                 [-2, -3, -4, -5])])</pre></div></div></div><div class=\"sk-parallel\"><div class=\"sk-parallel-item\"><div class=\"sk-item\"><div class=\"sk-label-container\"><div class=\"sk-label sk-toggleable\"><input class=\"sk-toggleable__control sk-hidden--visually\" id=\"a219ab45-1a38-4ef2-8ea0-21a480f42be7\" type=\"checkbox\" ><label for=\"a219ab45-1a38-4ef2-8ea0-21a480f42be7\" class=\"sk-toggleable__label sk-toggleable__label-arrow\">minmaxscaler</label><div class=\"sk-toggleable__content\"><pre>[-2, -3, -4, -5]</pre></div></div></div><div class=\"sk-serial\"><div class=\"sk-item\"><div class=\"sk-estimator sk-toggleable\"><input class=\"sk-toggleable__control sk-hidden--visually\" id=\"fdc0b4d5-4a82-4358-99ba-1c9d095c4df8\" type=\"checkbox\" ><label for=\"fdc0b4d5-4a82-4358-99ba-1c9d095c4df8\" class=\"sk-toggleable__label sk-toggleable__label-arrow\">MinMaxScaler</label><div class=\"sk-toggleable__content\"><pre>MinMaxScaler()</pre></div></div></div></div></div></div><div class=\"sk-parallel-item\"><div class=\"sk-item\"><div class=\"sk-label-container\"><div class=\"sk-label sk-toggleable\"><input class=\"sk-toggleable__control sk-hidden--visually\" id=\"a20f1ffa-6bce-4cf4-a98c-f37149dc27db\" type=\"checkbox\" ><label for=\"a20f1ffa-6bce-4cf4-a98c-f37149dc27db\" class=\"sk-toggleable__label sk-toggleable__label-arrow\">remainder</label><div class=\"sk-toggleable__content\"><pre>[0, 1, 2, 3, 4, 5, 6, 7, 8, 9, 10, 11, 12, 13, 14, 19]</pre></div></div></div><div class=\"sk-serial\"><div class=\"sk-item\"><div class=\"sk-estimator sk-toggleable\"><input class=\"sk-toggleable__control sk-hidden--visually\" id=\"94598060-d24d-4ba1-81b5-565dc457f393\" type=\"checkbox\" ><label for=\"94598060-d24d-4ba1-81b5-565dc457f393\" class=\"sk-toggleable__label sk-toggleable__label-arrow\">passthrough</label><div class=\"sk-toggleable__content\"><pre>passthrough</pre></div></div></div></div></div></div></div></div><div class=\"sk-item\"><div class=\"sk-estimator sk-toggleable\"><input class=\"sk-toggleable__control sk-hidden--visually\" id=\"fe9bb456-583e-4b83-910c-fa8be9df5f8b\" type=\"checkbox\" ><label for=\"fe9bb456-583e-4b83-910c-fa8be9df5f8b\" class=\"sk-toggleable__label sk-toggleable__label-arrow\">SelectKBest</label><div class=\"sk-toggleable__content\"><pre>SelectKBest(score_func=&lt;function chi2 at 0x7ff35c3f0320&gt;)</pre></div></div></div><div class=\"sk-item\"><div class=\"sk-estimator sk-toggleable\"><input class=\"sk-toggleable__control sk-hidden--visually\" id=\"69003525-9028-454e-8cae-e6f0a8fb12a6\" type=\"checkbox\" ><label for=\"69003525-9028-454e-8cae-e6f0a8fb12a6\" class=\"sk-toggleable__label sk-toggleable__label-arrow\">DecisionTreeClassifier</label><div class=\"sk-toggleable__content\"><pre>DecisionTreeClassifier()</pre></div></div></div></div></div></div></div>"
      ],
      "text/plain": [
       "Pipeline(steps=[('impute',\n",
       "                 ColumnTransformer(remainder='passthrough',\n",
       "                                   transformers=[('simpleimputer-1',\n",
       "                                                  SimpleImputer(strategy='most_frequent'),\n",
       "                                                  [0]),\n",
       "                                                 ('simpleimputer-2',\n",
       "                                                  SimpleImputer(strategy='most_frequent'),\n",
       "                                                  [1]),\n",
       "                                                 ('simpleimputer-3',\n",
       "                                                  SimpleImputer(strategy='most_frequent'),\n",
       "                                                  [2]),\n",
       "                                                 ('simpleimputer-4',\n",
       "                                                  SimpleImputer(strategy='most_frequent'),\n",
       "                                                  [3]),\n",
       "                                                 ('simpleimpu...\n",
       "                 ColumnTransformer(remainder='passthrough',\n",
       "                                   transformers=[('onehotencoder',\n",
       "                                                  OneHotEncoder(handle_unknown='ignore',\n",
       "                                                                sparse=False),\n",
       "                                                  [0, 1, 2, 3, 4, 10])])),\n",
       "                ('scale',\n",
       "                 ColumnTransformer(remainder='passthrough',\n",
       "                                   transformers=[('minmaxscaler',\n",
       "                                                  MinMaxScaler(),\n",
       "                                                  [-2, -3, -4, -5])])),\n",
       "                ('select',\n",
       "                 SelectKBest(score_func=<function chi2 at 0x7ff35c3f0320>)),\n",
       "                ('train', DecisionTreeClassifier())])"
      ]
     },
     "execution_count": 42,
     "metadata": {},
     "output_type": "execute_result"
    }
   ],
   "source": [
    "pipe.fit(xtrain,ytrain)"
   ]
  },
  {
   "cell_type": "code",
   "execution_count": 43,
   "metadata": {},
   "outputs": [],
   "source": [
    "# we will try different values for parameters max_depth and min_samples_split of a tree\n",
    "params = { 'train__max_depth':[None,1,2,3],\n",
    "         'train__min_samples_split':[2,3,4]}"
   ]
  },
  {
   "cell_type": "code",
   "execution_count": 44,
   "metadata": {},
   "outputs": [
    {
     "data": {
      "text/html": [
       "<style>#sk-7be72257-f9cf-44a9-9838-86c91e9f9969 {color: black;background-color: white;}#sk-7be72257-f9cf-44a9-9838-86c91e9f9969 pre{padding: 0;}#sk-7be72257-f9cf-44a9-9838-86c91e9f9969 div.sk-toggleable {background-color: white;}#sk-7be72257-f9cf-44a9-9838-86c91e9f9969 label.sk-toggleable__label {cursor: pointer;display: block;width: 100%;margin-bottom: 0;padding: 0.3em;box-sizing: border-box;text-align: center;}#sk-7be72257-f9cf-44a9-9838-86c91e9f9969 label.sk-toggleable__label-arrow:before {content: \"▸\";float: left;margin-right: 0.25em;color: #696969;}#sk-7be72257-f9cf-44a9-9838-86c91e9f9969 label.sk-toggleable__label-arrow:hover:before {color: black;}#sk-7be72257-f9cf-44a9-9838-86c91e9f9969 div.sk-estimator:hover label.sk-toggleable__label-arrow:before {color: black;}#sk-7be72257-f9cf-44a9-9838-86c91e9f9969 div.sk-toggleable__content {max-height: 0;max-width: 0;overflow: hidden;text-align: left;background-color: #f0f8ff;}#sk-7be72257-f9cf-44a9-9838-86c91e9f9969 div.sk-toggleable__content pre {margin: 0.2em;color: black;border-radius: 0.25em;background-color: #f0f8ff;}#sk-7be72257-f9cf-44a9-9838-86c91e9f9969 input.sk-toggleable__control:checked~div.sk-toggleable__content {max-height: 200px;max-width: 100%;overflow: auto;}#sk-7be72257-f9cf-44a9-9838-86c91e9f9969 input.sk-toggleable__control:checked~label.sk-toggleable__label-arrow:before {content: \"▾\";}#sk-7be72257-f9cf-44a9-9838-86c91e9f9969 div.sk-estimator input.sk-toggleable__control:checked~label.sk-toggleable__label {background-color: #d4ebff;}#sk-7be72257-f9cf-44a9-9838-86c91e9f9969 div.sk-label input.sk-toggleable__control:checked~label.sk-toggleable__label {background-color: #d4ebff;}#sk-7be72257-f9cf-44a9-9838-86c91e9f9969 input.sk-hidden--visually {border: 0;clip: rect(1px 1px 1px 1px);clip: rect(1px, 1px, 1px, 1px);height: 1px;margin: -1px;overflow: hidden;padding: 0;position: absolute;width: 1px;}#sk-7be72257-f9cf-44a9-9838-86c91e9f9969 div.sk-estimator {font-family: monospace;background-color: #f0f8ff;border: 1px dotted black;border-radius: 0.25em;box-sizing: border-box;margin-bottom: 0.5em;}#sk-7be72257-f9cf-44a9-9838-86c91e9f9969 div.sk-estimator:hover {background-color: #d4ebff;}#sk-7be72257-f9cf-44a9-9838-86c91e9f9969 div.sk-parallel-item::after {content: \"\";width: 100%;border-bottom: 1px solid gray;flex-grow: 1;}#sk-7be72257-f9cf-44a9-9838-86c91e9f9969 div.sk-label:hover label.sk-toggleable__label {background-color: #d4ebff;}#sk-7be72257-f9cf-44a9-9838-86c91e9f9969 div.sk-serial::before {content: \"\";position: absolute;border-left: 1px solid gray;box-sizing: border-box;top: 2em;bottom: 0;left: 50%;}#sk-7be72257-f9cf-44a9-9838-86c91e9f9969 div.sk-serial {display: flex;flex-direction: column;align-items: center;background-color: white;padding-right: 0.2em;padding-left: 0.2em;}#sk-7be72257-f9cf-44a9-9838-86c91e9f9969 div.sk-item {z-index: 1;}#sk-7be72257-f9cf-44a9-9838-86c91e9f9969 div.sk-parallel {display: flex;align-items: stretch;justify-content: center;background-color: white;}#sk-7be72257-f9cf-44a9-9838-86c91e9f9969 div.sk-parallel::before {content: \"\";position: absolute;border-left: 1px solid gray;box-sizing: border-box;top: 2em;bottom: 0;left: 50%;}#sk-7be72257-f9cf-44a9-9838-86c91e9f9969 div.sk-parallel-item {display: flex;flex-direction: column;position: relative;background-color: white;}#sk-7be72257-f9cf-44a9-9838-86c91e9f9969 div.sk-parallel-item:first-child::after {align-self: flex-end;width: 50%;}#sk-7be72257-f9cf-44a9-9838-86c91e9f9969 div.sk-parallel-item:last-child::after {align-self: flex-start;width: 50%;}#sk-7be72257-f9cf-44a9-9838-86c91e9f9969 div.sk-parallel-item:only-child::after {width: 0;}#sk-7be72257-f9cf-44a9-9838-86c91e9f9969 div.sk-dashed-wrapped {border: 1px dashed gray;margin: 0 0.4em 0.5em 0.4em;box-sizing: border-box;padding-bottom: 0.4em;background-color: white;position: relative;}#sk-7be72257-f9cf-44a9-9838-86c91e9f9969 div.sk-label label {font-family: monospace;font-weight: bold;background-color: white;display: inline-block;line-height: 1.2em;}#sk-7be72257-f9cf-44a9-9838-86c91e9f9969 div.sk-label-container {position: relative;z-index: 2;text-align: center;}#sk-7be72257-f9cf-44a9-9838-86c91e9f9969 div.sk-container {/* jupyter's `normalize.less` sets `[hidden] { display: none; }` but bootstrap.min.css set `[hidden] { display: none !important; }` so we also need the `!important` here to be able to override the default hidden behavior on the sphinx rendered scikit-learn.org. See: https://github.com/scikit-learn/scikit-learn/issues/21755 */display: inline-block !important;position: relative;}#sk-7be72257-f9cf-44a9-9838-86c91e9f9969 div.sk-text-repr-fallback {display: none;}</style><div id=\"sk-7be72257-f9cf-44a9-9838-86c91e9f9969\" class=\"sk-top-container\"><div class=\"sk-text-repr-fallback\"><pre>GridSearchCV(cv=5,\n",
       "             estimator=Pipeline(steps=[(&#x27;impute&#x27;,\n",
       "                                        ColumnTransformer(remainder=&#x27;passthrough&#x27;,\n",
       "                                                          transformers=[(&#x27;simpleimputer-1&#x27;,\n",
       "                                                                         SimpleImputer(strategy=&#x27;most_frequent&#x27;),\n",
       "                                                                         [0]),\n",
       "                                                                        (&#x27;simpleimputer-2&#x27;,\n",
       "                                                                         SimpleImputer(strategy=&#x27;most_frequent&#x27;),\n",
       "                                                                         [1]),\n",
       "                                                                        (&#x27;simpleimputer-3&#x27;,\n",
       "                                                                         SimpleImputer(strategy=&#x27;most_frequent&#x27;),\n",
       "                                                                         [2]),\n",
       "                                                                        (&#x27;simpleimputer-4&#x27;,\n",
       "                                                                         SimpleImputer(strategy=&#x27;most_...\n",
       "                                                                         OneHotEncoder(handle_unknown=&#x27;ignore&#x27;,\n",
       "                                                                                       sparse=False),\n",
       "                                                                         [0, 1,\n",
       "                                                                          2, 3,\n",
       "                                                                          4,\n",
       "                                                                          10])])),\n",
       "                                       (&#x27;scale&#x27;,\n",
       "                                        ColumnTransformer(remainder=&#x27;passthrough&#x27;,\n",
       "                                                          transformers=[(&#x27;minmaxscaler&#x27;,\n",
       "                                                                         MinMaxScaler(),\n",
       "                                                                         [-2,\n",
       "                                                                          -3,\n",
       "                                                                          -4,\n",
       "                                                                          -5])])),\n",
       "                                       (&#x27;select&#x27;,\n",
       "                                        SelectKBest(score_func=&lt;function chi2 at 0x7ff35c3f0320&gt;)),\n",
       "                                       (&#x27;train&#x27;, DecisionTreeClassifier())]),\n",
       "             param_grid={&#x27;train__max_depth&#x27;: [None, 1, 2, 3],\n",
       "                         &#x27;train__min_samples_split&#x27;: [2, 3, 4]},\n",
       "             scoring=&#x27;accuracy&#x27;)</pre><b>Please rerun this cell to show the HTML repr or trust the notebook.</b></div><div class=\"sk-container\" hidden><div class=\"sk-item sk-dashed-wrapped\"><div class=\"sk-label-container\"><div class=\"sk-label sk-toggleable\"><input class=\"sk-toggleable__control sk-hidden--visually\" id=\"dc191347-a5aa-47bc-b662-42d06ef1b893\" type=\"checkbox\" ><label for=\"dc191347-a5aa-47bc-b662-42d06ef1b893\" class=\"sk-toggleable__label sk-toggleable__label-arrow\">GridSearchCV</label><div class=\"sk-toggleable__content\"><pre>GridSearchCV(cv=5,\n",
       "             estimator=Pipeline(steps=[(&#x27;impute&#x27;,\n",
       "                                        ColumnTransformer(remainder=&#x27;passthrough&#x27;,\n",
       "                                                          transformers=[(&#x27;simpleimputer-1&#x27;,\n",
       "                                                                         SimpleImputer(strategy=&#x27;most_frequent&#x27;),\n",
       "                                                                         [0]),\n",
       "                                                                        (&#x27;simpleimputer-2&#x27;,\n",
       "                                                                         SimpleImputer(strategy=&#x27;most_frequent&#x27;),\n",
       "                                                                         [1]),\n",
       "                                                                        (&#x27;simpleimputer-3&#x27;,\n",
       "                                                                         SimpleImputer(strategy=&#x27;most_frequent&#x27;),\n",
       "                                                                         [2]),\n",
       "                                                                        (&#x27;simpleimputer-4&#x27;,\n",
       "                                                                         SimpleImputer(strategy=&#x27;most_...\n",
       "                                                                         OneHotEncoder(handle_unknown=&#x27;ignore&#x27;,\n",
       "                                                                                       sparse=False),\n",
       "                                                                         [0, 1,\n",
       "                                                                          2, 3,\n",
       "                                                                          4,\n",
       "                                                                          10])])),\n",
       "                                       (&#x27;scale&#x27;,\n",
       "                                        ColumnTransformer(remainder=&#x27;passthrough&#x27;,\n",
       "                                                          transformers=[(&#x27;minmaxscaler&#x27;,\n",
       "                                                                         MinMaxScaler(),\n",
       "                                                                         [-2,\n",
       "                                                                          -3,\n",
       "                                                                          -4,\n",
       "                                                                          -5])])),\n",
       "                                       (&#x27;select&#x27;,\n",
       "                                        SelectKBest(score_func=&lt;function chi2 at 0x7ff35c3f0320&gt;)),\n",
       "                                       (&#x27;train&#x27;, DecisionTreeClassifier())]),\n",
       "             param_grid={&#x27;train__max_depth&#x27;: [None, 1, 2, 3],\n",
       "                         &#x27;train__min_samples_split&#x27;: [2, 3, 4]},\n",
       "             scoring=&#x27;accuracy&#x27;)</pre></div></div></div><div class=\"sk-parallel\"><div class=\"sk-parallel-item\"><div class=\"sk-item\"><div class=\"sk-serial\"><div class=\"sk-item\"><div class=\"sk-serial\"><div class=\"sk-item sk-dashed-wrapped\"><div class=\"sk-label-container\"><div class=\"sk-label sk-toggleable\"><input class=\"sk-toggleable__control sk-hidden--visually\" id=\"b7de3974-a80e-4553-be0b-93817c2a84b0\" type=\"checkbox\" ><label for=\"b7de3974-a80e-4553-be0b-93817c2a84b0\" class=\"sk-toggleable__label sk-toggleable__label-arrow\">impute: ColumnTransformer</label><div class=\"sk-toggleable__content\"><pre>ColumnTransformer(remainder=&#x27;passthrough&#x27;,\n",
       "                  transformers=[(&#x27;simpleimputer-1&#x27;,\n",
       "                                 SimpleImputer(strategy=&#x27;most_frequent&#x27;), [0]),\n",
       "                                (&#x27;simpleimputer-2&#x27;,\n",
       "                                 SimpleImputer(strategy=&#x27;most_frequent&#x27;), [1]),\n",
       "                                (&#x27;simpleimputer-3&#x27;,\n",
       "                                 SimpleImputer(strategy=&#x27;most_frequent&#x27;), [2]),\n",
       "                                (&#x27;simpleimputer-4&#x27;,\n",
       "                                 SimpleImputer(strategy=&#x27;most_frequent&#x27;), [3]),\n",
       "                                (&#x27;simpleimputer-5&#x27;,\n",
       "                                 SimpleImputer(strat...\n",
       "                                (&#x27;simpleimputer-6&#x27;,\n",
       "                                 SimpleImputer(strategy=&#x27;median&#x27;), [5]),\n",
       "                                (&#x27;simpleimputer-7&#x27;,\n",
       "                                 SimpleImputer(strategy=&#x27;median&#x27;), [6]),\n",
       "                                (&#x27;simpleimputer-8&#x27;,\n",
       "                                 SimpleImputer(strategy=&#x27;median&#x27;), [7]),\n",
       "                                (&#x27;simpleimputer-9&#x27;,\n",
       "                                 SimpleImputer(strategy=&#x27;most_frequent&#x27;), [8]),\n",
       "                                (&#x27;simpleimputer-10&#x27;,\n",
       "                                 SimpleImputer(strategy=&#x27;most_frequent&#x27;), [9]),\n",
       "                                (&#x27;simpleimputer-11&#x27;,\n",
       "                                 SimpleImputer(strategy=&#x27;most_frequent&#x27;),\n",
       "                                 [10])])</pre></div></div></div><div class=\"sk-parallel\"><div class=\"sk-parallel-item\"><div class=\"sk-item\"><div class=\"sk-label-container\"><div class=\"sk-label sk-toggleable\"><input class=\"sk-toggleable__control sk-hidden--visually\" id=\"592bfa6d-4fac-4e35-b0a2-407f695654c1\" type=\"checkbox\" ><label for=\"592bfa6d-4fac-4e35-b0a2-407f695654c1\" class=\"sk-toggleable__label sk-toggleable__label-arrow\">simpleimputer-1</label><div class=\"sk-toggleable__content\"><pre>[0]</pre></div></div></div><div class=\"sk-serial\"><div class=\"sk-item\"><div class=\"sk-estimator sk-toggleable\"><input class=\"sk-toggleable__control sk-hidden--visually\" id=\"b6e51cf5-9148-4b7a-8f35-bd01af76d8d9\" type=\"checkbox\" ><label for=\"b6e51cf5-9148-4b7a-8f35-bd01af76d8d9\" class=\"sk-toggleable__label sk-toggleable__label-arrow\">SimpleImputer</label><div class=\"sk-toggleable__content\"><pre>SimpleImputer(strategy=&#x27;most_frequent&#x27;)</pre></div></div></div></div></div></div><div class=\"sk-parallel-item\"><div class=\"sk-item\"><div class=\"sk-label-container\"><div class=\"sk-label sk-toggleable\"><input class=\"sk-toggleable__control sk-hidden--visually\" id=\"792b69df-3b95-4556-911e-1d8cf5d88a4e\" type=\"checkbox\" ><label for=\"792b69df-3b95-4556-911e-1d8cf5d88a4e\" class=\"sk-toggleable__label sk-toggleable__label-arrow\">simpleimputer-2</label><div class=\"sk-toggleable__content\"><pre>[1]</pre></div></div></div><div class=\"sk-serial\"><div class=\"sk-item\"><div class=\"sk-estimator sk-toggleable\"><input class=\"sk-toggleable__control sk-hidden--visually\" id=\"c5b7e611-4e07-4eb1-93f1-49fddfb4cc6d\" type=\"checkbox\" ><label for=\"c5b7e611-4e07-4eb1-93f1-49fddfb4cc6d\" class=\"sk-toggleable__label sk-toggleable__label-arrow\">SimpleImputer</label><div class=\"sk-toggleable__content\"><pre>SimpleImputer(strategy=&#x27;most_frequent&#x27;)</pre></div></div></div></div></div></div><div class=\"sk-parallel-item\"><div class=\"sk-item\"><div class=\"sk-label-container\"><div class=\"sk-label sk-toggleable\"><input class=\"sk-toggleable__control sk-hidden--visually\" id=\"d150adb5-4a66-412c-a93b-51b08f414778\" type=\"checkbox\" ><label for=\"d150adb5-4a66-412c-a93b-51b08f414778\" class=\"sk-toggleable__label sk-toggleable__label-arrow\">simpleimputer-3</label><div class=\"sk-toggleable__content\"><pre>[2]</pre></div></div></div><div class=\"sk-serial\"><div class=\"sk-item\"><div class=\"sk-estimator sk-toggleable\"><input class=\"sk-toggleable__control sk-hidden--visually\" id=\"4066d814-c223-4d85-873b-7c5d7edd80ee\" type=\"checkbox\" ><label for=\"4066d814-c223-4d85-873b-7c5d7edd80ee\" class=\"sk-toggleable__label sk-toggleable__label-arrow\">SimpleImputer</label><div class=\"sk-toggleable__content\"><pre>SimpleImputer(strategy=&#x27;most_frequent&#x27;)</pre></div></div></div></div></div></div><div class=\"sk-parallel-item\"><div class=\"sk-item\"><div class=\"sk-label-container\"><div class=\"sk-label sk-toggleable\"><input class=\"sk-toggleable__control sk-hidden--visually\" id=\"275b5c18-bace-4467-b0c6-1c0b550a7cae\" type=\"checkbox\" ><label for=\"275b5c18-bace-4467-b0c6-1c0b550a7cae\" class=\"sk-toggleable__label sk-toggleable__label-arrow\">simpleimputer-4</label><div class=\"sk-toggleable__content\"><pre>[3]</pre></div></div></div><div class=\"sk-serial\"><div class=\"sk-item\"><div class=\"sk-estimator sk-toggleable\"><input class=\"sk-toggleable__control sk-hidden--visually\" id=\"f7bfd2c5-7400-4c78-a129-340becf46f5b\" type=\"checkbox\" ><label for=\"f7bfd2c5-7400-4c78-a129-340becf46f5b\" class=\"sk-toggleable__label sk-toggleable__label-arrow\">SimpleImputer</label><div class=\"sk-toggleable__content\"><pre>SimpleImputer(strategy=&#x27;most_frequent&#x27;)</pre></div></div></div></div></div></div><div class=\"sk-parallel-item\"><div class=\"sk-item\"><div class=\"sk-label-container\"><div class=\"sk-label sk-toggleable\"><input class=\"sk-toggleable__control sk-hidden--visually\" id=\"4d55e240-ad2f-4f15-a61f-1422d3ae553f\" type=\"checkbox\" ><label for=\"4d55e240-ad2f-4f15-a61f-1422d3ae553f\" class=\"sk-toggleable__label sk-toggleable__label-arrow\">simpleimputer-5</label><div class=\"sk-toggleable__content\"><pre>[4]</pre></div></div></div><div class=\"sk-serial\"><div class=\"sk-item\"><div class=\"sk-estimator sk-toggleable\"><input class=\"sk-toggleable__control sk-hidden--visually\" id=\"0521d268-bbdf-48e9-8d8d-716a69014e0a\" type=\"checkbox\" ><label for=\"0521d268-bbdf-48e9-8d8d-716a69014e0a\" class=\"sk-toggleable__label sk-toggleable__label-arrow\">SimpleImputer</label><div class=\"sk-toggleable__content\"><pre>SimpleImputer(strategy=&#x27;most_frequent&#x27;)</pre></div></div></div></div></div></div><div class=\"sk-parallel-item\"><div class=\"sk-item\"><div class=\"sk-label-container\"><div class=\"sk-label sk-toggleable\"><input class=\"sk-toggleable__control sk-hidden--visually\" id=\"208839c8-cec9-4ca0-addf-879a81be8db1\" type=\"checkbox\" ><label for=\"208839c8-cec9-4ca0-addf-879a81be8db1\" class=\"sk-toggleable__label sk-toggleable__label-arrow\">simpleimputer-6</label><div class=\"sk-toggleable__content\"><pre>[5]</pre></div></div></div><div class=\"sk-serial\"><div class=\"sk-item\"><div class=\"sk-estimator sk-toggleable\"><input class=\"sk-toggleable__control sk-hidden--visually\" id=\"1b570950-9a6e-433b-8048-9e1e30ac04c4\" type=\"checkbox\" ><label for=\"1b570950-9a6e-433b-8048-9e1e30ac04c4\" class=\"sk-toggleable__label sk-toggleable__label-arrow\">SimpleImputer</label><div class=\"sk-toggleable__content\"><pre>SimpleImputer(strategy=&#x27;median&#x27;)</pre></div></div></div></div></div></div><div class=\"sk-parallel-item\"><div class=\"sk-item\"><div class=\"sk-label-container\"><div class=\"sk-label sk-toggleable\"><input class=\"sk-toggleable__control sk-hidden--visually\" id=\"afee1fbb-5e2d-496f-b73d-213a134ed3a6\" type=\"checkbox\" ><label for=\"afee1fbb-5e2d-496f-b73d-213a134ed3a6\" class=\"sk-toggleable__label sk-toggleable__label-arrow\">simpleimputer-7</label><div class=\"sk-toggleable__content\"><pre>[6]</pre></div></div></div><div class=\"sk-serial\"><div class=\"sk-item\"><div class=\"sk-estimator sk-toggleable\"><input class=\"sk-toggleable__control sk-hidden--visually\" id=\"adb29cf7-4d44-46f1-9a93-6abf6671f85b\" type=\"checkbox\" ><label for=\"adb29cf7-4d44-46f1-9a93-6abf6671f85b\" class=\"sk-toggleable__label sk-toggleable__label-arrow\">SimpleImputer</label><div class=\"sk-toggleable__content\"><pre>SimpleImputer(strategy=&#x27;median&#x27;)</pre></div></div></div></div></div></div><div class=\"sk-parallel-item\"><div class=\"sk-item\"><div class=\"sk-label-container\"><div class=\"sk-label sk-toggleable\"><input class=\"sk-toggleable__control sk-hidden--visually\" id=\"173d6683-978f-4b41-b986-88bf49a89a4a\" type=\"checkbox\" ><label for=\"173d6683-978f-4b41-b986-88bf49a89a4a\" class=\"sk-toggleable__label sk-toggleable__label-arrow\">simpleimputer-8</label><div class=\"sk-toggleable__content\"><pre>[7]</pre></div></div></div><div class=\"sk-serial\"><div class=\"sk-item\"><div class=\"sk-estimator sk-toggleable\"><input class=\"sk-toggleable__control sk-hidden--visually\" id=\"67197eee-f1f6-49ae-9e98-1a71ed4d445f\" type=\"checkbox\" ><label for=\"67197eee-f1f6-49ae-9e98-1a71ed4d445f\" class=\"sk-toggleable__label sk-toggleable__label-arrow\">SimpleImputer</label><div class=\"sk-toggleable__content\"><pre>SimpleImputer(strategy=&#x27;median&#x27;)</pre></div></div></div></div></div></div><div class=\"sk-parallel-item\"><div class=\"sk-item\"><div class=\"sk-label-container\"><div class=\"sk-label sk-toggleable\"><input class=\"sk-toggleable__control sk-hidden--visually\" id=\"7c49eea1-8b32-45a0-b6fd-2db03a6ef4f4\" type=\"checkbox\" ><label for=\"7c49eea1-8b32-45a0-b6fd-2db03a6ef4f4\" class=\"sk-toggleable__label sk-toggleable__label-arrow\">simpleimputer-9</label><div class=\"sk-toggleable__content\"><pre>[8]</pre></div></div></div><div class=\"sk-serial\"><div class=\"sk-item\"><div class=\"sk-estimator sk-toggleable\"><input class=\"sk-toggleable__control sk-hidden--visually\" id=\"79584ee4-9c38-496f-aadb-1ef2f37ed3a4\" type=\"checkbox\" ><label for=\"79584ee4-9c38-496f-aadb-1ef2f37ed3a4\" class=\"sk-toggleable__label sk-toggleable__label-arrow\">SimpleImputer</label><div class=\"sk-toggleable__content\"><pre>SimpleImputer(strategy=&#x27;most_frequent&#x27;)</pre></div></div></div></div></div></div><div class=\"sk-parallel-item\"><div class=\"sk-item\"><div class=\"sk-label-container\"><div class=\"sk-label sk-toggleable\"><input class=\"sk-toggleable__control sk-hidden--visually\" id=\"a84bbfe3-4aac-4366-bee4-f5dbd0f70b14\" type=\"checkbox\" ><label for=\"a84bbfe3-4aac-4366-bee4-f5dbd0f70b14\" class=\"sk-toggleable__label sk-toggleable__label-arrow\">simpleimputer-10</label><div class=\"sk-toggleable__content\"><pre>[9]</pre></div></div></div><div class=\"sk-serial\"><div class=\"sk-item\"><div class=\"sk-estimator sk-toggleable\"><input class=\"sk-toggleable__control sk-hidden--visually\" id=\"7ab2eca6-5ced-443d-adfb-da6e137a50b1\" type=\"checkbox\" ><label for=\"7ab2eca6-5ced-443d-adfb-da6e137a50b1\" class=\"sk-toggleable__label sk-toggleable__label-arrow\">SimpleImputer</label><div class=\"sk-toggleable__content\"><pre>SimpleImputer(strategy=&#x27;most_frequent&#x27;)</pre></div></div></div></div></div></div><div class=\"sk-parallel-item\"><div class=\"sk-item\"><div class=\"sk-label-container\"><div class=\"sk-label sk-toggleable\"><input class=\"sk-toggleable__control sk-hidden--visually\" id=\"417ae2ec-1cd1-4b28-b19a-d5136739d33b\" type=\"checkbox\" ><label for=\"417ae2ec-1cd1-4b28-b19a-d5136739d33b\" class=\"sk-toggleable__label sk-toggleable__label-arrow\">simpleimputer-11</label><div class=\"sk-toggleable__content\"><pre>[10]</pre></div></div></div><div class=\"sk-serial\"><div class=\"sk-item\"><div class=\"sk-estimator sk-toggleable\"><input class=\"sk-toggleable__control sk-hidden--visually\" id=\"0682e5c7-1d37-4b24-a2f7-569548277aca\" type=\"checkbox\" ><label for=\"0682e5c7-1d37-4b24-a2f7-569548277aca\" class=\"sk-toggleable__label sk-toggleable__label-arrow\">SimpleImputer</label><div class=\"sk-toggleable__content\"><pre>SimpleImputer(strategy=&#x27;most_frequent&#x27;)</pre></div></div></div></div></div></div><div class=\"sk-parallel-item\"><div class=\"sk-item\"><div class=\"sk-label-container\"><div class=\"sk-label sk-toggleable\"><input class=\"sk-toggleable__control sk-hidden--visually\" id=\"fdae3822-b6db-4dbd-a0d8-35d5127fd67d\" type=\"checkbox\" ><label for=\"fdae3822-b6db-4dbd-a0d8-35d5127fd67d\" class=\"sk-toggleable__label sk-toggleable__label-arrow\">remainder</label><div class=\"sk-toggleable__content\"><pre>[]</pre></div></div></div><div class=\"sk-serial\"><div class=\"sk-item\"><div class=\"sk-estimator sk-toggleable\"><input class=\"sk-toggleable__control sk-hidden--visually\" id=\"40694cfc-cdaa-4e61-a88d-8609414b9f43\" type=\"checkbox\" ><label for=\"40694cfc-cdaa-4e61-a88d-8609414b9f43\" class=\"sk-toggleable__label sk-toggleable__label-arrow\">passthrough</label><div class=\"sk-toggleable__content\"><pre>passthrough</pre></div></div></div></div></div></div></div></div><div class=\"sk-item sk-dashed-wrapped\"><div class=\"sk-label-container\"><div class=\"sk-label sk-toggleable\"><input class=\"sk-toggleable__control sk-hidden--visually\" id=\"eb402846-2c39-4b1d-b762-d24d62765b0f\" type=\"checkbox\" ><label for=\"eb402846-2c39-4b1d-b762-d24d62765b0f\" class=\"sk-toggleable__label sk-toggleable__label-arrow\">encode: ColumnTransformer</label><div class=\"sk-toggleable__content\"><pre>ColumnTransformer(remainder=&#x27;passthrough&#x27;,\n",
       "                  transformers=[(&#x27;onehotencoder&#x27;,\n",
       "                                 OneHotEncoder(handle_unknown=&#x27;ignore&#x27;,\n",
       "                                               sparse=False),\n",
       "                                 [0, 1, 2, 3, 4, 10])])</pre></div></div></div><div class=\"sk-parallel\"><div class=\"sk-parallel-item\"><div class=\"sk-item\"><div class=\"sk-label-container\"><div class=\"sk-label sk-toggleable\"><input class=\"sk-toggleable__control sk-hidden--visually\" id=\"bf54ff85-6660-426c-89ac-31a740ad456b\" type=\"checkbox\" ><label for=\"bf54ff85-6660-426c-89ac-31a740ad456b\" class=\"sk-toggleable__label sk-toggleable__label-arrow\">onehotencoder</label><div class=\"sk-toggleable__content\"><pre>[0, 1, 2, 3, 4, 10]</pre></div></div></div><div class=\"sk-serial\"><div class=\"sk-item\"><div class=\"sk-estimator sk-toggleable\"><input class=\"sk-toggleable__control sk-hidden--visually\" id=\"9adb54e2-1fe3-4371-b566-5483b2ee5f8b\" type=\"checkbox\" ><label for=\"9adb54e2-1fe3-4371-b566-5483b2ee5f8b\" class=\"sk-toggleable__label sk-toggleable__label-arrow\">OneHotEncoder</label><div class=\"sk-toggleable__content\"><pre>OneHotEncoder(handle_unknown=&#x27;ignore&#x27;, sparse=False)</pre></div></div></div></div></div></div><div class=\"sk-parallel-item\"><div class=\"sk-item\"><div class=\"sk-label-container\"><div class=\"sk-label sk-toggleable\"><input class=\"sk-toggleable__control sk-hidden--visually\" id=\"31704d94-3045-4fbb-ab0e-43eddeba84c1\" type=\"checkbox\" ><label for=\"31704d94-3045-4fbb-ab0e-43eddeba84c1\" class=\"sk-toggleable__label sk-toggleable__label-arrow\">remainder</label><div class=\"sk-toggleable__content\"><pre>[5, 6, 7, 8, 9]</pre></div></div></div><div class=\"sk-serial\"><div class=\"sk-item\"><div class=\"sk-estimator sk-toggleable\"><input class=\"sk-toggleable__control sk-hidden--visually\" id=\"2aec8578-de4a-45f1-a3ae-ecaf473cb866\" type=\"checkbox\" ><label for=\"2aec8578-de4a-45f1-a3ae-ecaf473cb866\" class=\"sk-toggleable__label sk-toggleable__label-arrow\">passthrough</label><div class=\"sk-toggleable__content\"><pre>passthrough</pre></div></div></div></div></div></div></div></div><div class=\"sk-item sk-dashed-wrapped\"><div class=\"sk-label-container\"><div class=\"sk-label sk-toggleable\"><input class=\"sk-toggleable__control sk-hidden--visually\" id=\"b7127bb4-2f4f-4080-9728-74e55f76ab9a\" type=\"checkbox\" ><label for=\"b7127bb4-2f4f-4080-9728-74e55f76ab9a\" class=\"sk-toggleable__label sk-toggleable__label-arrow\">scale: ColumnTransformer</label><div class=\"sk-toggleable__content\"><pre>ColumnTransformer(remainder=&#x27;passthrough&#x27;,\n",
       "                  transformers=[(&#x27;minmaxscaler&#x27;, MinMaxScaler(),\n",
       "                                 [-2, -3, -4, -5])])</pre></div></div></div><div class=\"sk-parallel\"><div class=\"sk-parallel-item\"><div class=\"sk-item\"><div class=\"sk-label-container\"><div class=\"sk-label sk-toggleable\"><input class=\"sk-toggleable__control sk-hidden--visually\" id=\"4df80557-02b3-45be-b831-f30fec29b306\" type=\"checkbox\" ><label for=\"4df80557-02b3-45be-b831-f30fec29b306\" class=\"sk-toggleable__label sk-toggleable__label-arrow\">minmaxscaler</label><div class=\"sk-toggleable__content\"><pre>[-2, -3, -4, -5]</pre></div></div></div><div class=\"sk-serial\"><div class=\"sk-item\"><div class=\"sk-estimator sk-toggleable\"><input class=\"sk-toggleable__control sk-hidden--visually\" id=\"fa534b33-43fe-4b03-9088-ff3bd7624895\" type=\"checkbox\" ><label for=\"fa534b33-43fe-4b03-9088-ff3bd7624895\" class=\"sk-toggleable__label sk-toggleable__label-arrow\">MinMaxScaler</label><div class=\"sk-toggleable__content\"><pre>MinMaxScaler()</pre></div></div></div></div></div></div><div class=\"sk-parallel-item\"><div class=\"sk-item\"><div class=\"sk-label-container\"><div class=\"sk-label sk-toggleable\"><input class=\"sk-toggleable__control sk-hidden--visually\" id=\"ec427d02-6e20-4b30-8d88-f1d3e556805f\" type=\"checkbox\" ><label for=\"ec427d02-6e20-4b30-8d88-f1d3e556805f\" class=\"sk-toggleable__label sk-toggleable__label-arrow\">remainder</label><div class=\"sk-toggleable__content\"><pre>[0, 1, 2, 3, 4, 5, 6, 7, 8, 9, 10, 11, 12, 13, 14, 19]</pre></div></div></div><div class=\"sk-serial\"><div class=\"sk-item\"><div class=\"sk-estimator sk-toggleable\"><input class=\"sk-toggleable__control sk-hidden--visually\" id=\"bb0ae167-2c06-4d66-8042-0e4a53e8160d\" type=\"checkbox\" ><label for=\"bb0ae167-2c06-4d66-8042-0e4a53e8160d\" class=\"sk-toggleable__label sk-toggleable__label-arrow\">passthrough</label><div class=\"sk-toggleable__content\"><pre>passthrough</pre></div></div></div></div></div></div></div></div><div class=\"sk-item\"><div class=\"sk-estimator sk-toggleable\"><input class=\"sk-toggleable__control sk-hidden--visually\" id=\"06e762c7-d6b7-4c9d-8dae-c7c269162dc4\" type=\"checkbox\" ><label for=\"06e762c7-d6b7-4c9d-8dae-c7c269162dc4\" class=\"sk-toggleable__label sk-toggleable__label-arrow\">SelectKBest</label><div class=\"sk-toggleable__content\"><pre>SelectKBest(score_func=&lt;function chi2 at 0x7ff35c3f0320&gt;)</pre></div></div></div><div class=\"sk-item\"><div class=\"sk-estimator sk-toggleable\"><input class=\"sk-toggleable__control sk-hidden--visually\" id=\"8c80ee61-9832-49a0-b198-2cb99afea68d\" type=\"checkbox\" ><label for=\"8c80ee61-9832-49a0-b198-2cb99afea68d\" class=\"sk-toggleable__label sk-toggleable__label-arrow\">DecisionTreeClassifier</label><div class=\"sk-toggleable__content\"><pre>DecisionTreeClassifier()</pre></div></div></div></div></div></div></div></div></div></div></div></div>"
      ],
      "text/plain": [
       "GridSearchCV(cv=5,\n",
       "             estimator=Pipeline(steps=[('impute',\n",
       "                                        ColumnTransformer(remainder='passthrough',\n",
       "                                                          transformers=[('simpleimputer-1',\n",
       "                                                                         SimpleImputer(strategy='most_frequent'),\n",
       "                                                                         [0]),\n",
       "                                                                        ('simpleimputer-2',\n",
       "                                                                         SimpleImputer(strategy='most_frequent'),\n",
       "                                                                         [1]),\n",
       "                                                                        ('simpleimputer-3',\n",
       "                                                                         SimpleImputer(strategy='most_frequent'),\n",
       "                                                                         [2]),\n",
       "                                                                        ('simpleimputer-4',\n",
       "                                                                         SimpleImputer(strategy='most_...\n",
       "                                                                         OneHotEncoder(handle_unknown='ignore',\n",
       "                                                                                       sparse=False),\n",
       "                                                                         [0, 1,\n",
       "                                                                          2, 3,\n",
       "                                                                          4,\n",
       "                                                                          10])])),\n",
       "                                       ('scale',\n",
       "                                        ColumnTransformer(remainder='passthrough',\n",
       "                                                          transformers=[('minmaxscaler',\n",
       "                                                                         MinMaxScaler(),\n",
       "                                                                         [-2,\n",
       "                                                                          -3,\n",
       "                                                                          -4,\n",
       "                                                                          -5])])),\n",
       "                                       ('select',\n",
       "                                        SelectKBest(score_func=<function chi2 at 0x7ff35c3f0320>)),\n",
       "                                       ('train', DecisionTreeClassifier())]),\n",
       "             param_grid={'train__max_depth': [None, 1, 2, 3],\n",
       "                         'train__min_samples_split': [2, 3, 4]},\n",
       "             scoring='accuracy')"
      ]
     },
     "execution_count": 44,
     "metadata": {},
     "output_type": "execute_result"
    }
   ],
   "source": [
    "from sklearn.model_selection import GridSearchCV\n",
    "grid = GridSearchCV(pipe, params, cv=5, scoring='accuracy')\n",
    "grid.fit(xtrain, ytrain)"
   ]
  },
  {
   "cell_type": "code",
   "execution_count": 45,
   "metadata": {},
   "outputs": [
    {
     "data": {
      "text/plain": [
       "(0.8086167800453514, {'train__max_depth': 1, 'train__min_samples_split': 2})"
      ]
     },
     "execution_count": 45,
     "metadata": {},
     "output_type": "execute_result"
    }
   ],
   "source": [
    "grid.best_score_, grid.best_params_"
   ]
  },
  {
   "cell_type": "code",
   "execution_count": null,
   "metadata": {},
   "outputs": [],
   "source": []
  }
 ],
 "metadata": {
  "colab": {
   "collapsed_sections": [
    "RYOHc68YujYE",
    "lc_kizYoJ2FS",
    "ZsJCxVwOJ2FU",
    "vQniuFLiJ2FZ",
    "Iid-Mm7SvKLH",
    "kO38zz_lvQlb",
    "dcVJD8thJ2Fo",
    "WU_fkGPkJ2Fo",
    "O6Li3YCgJ2Fq",
    "IvmLln6PJ2F0",
    "1i5o-mJxJ2F1",
    "8VR2DLkQJ2F5",
    "pQ6brzE7J2F_",
    "hFMuvW1uJ2Gb",
    "6jkwgRPuQDMl",
    "I-1mdGanQO3N",
    "05_n-tl3J2Gh",
    "GcrbeHLgJ2Gl",
    "_Q2od2oZJ2Gm",
    "5V1nnqq2J2Gs",
    "I6LhGTQoJ2Gy",
    "9VxTAromSFOq",
    "-W0I9QpctKVK",
    "5lZqtS1yJ2G5",
    "FIFI3J9hJ2G7"
   ],
   "name": "Project_Code.ipynb",
   "provenance": []
  },
  "kernelspec": {
   "display_name": "Python 3",
   "language": "python",
   "name": "python3"
  },
  "language_info": {
   "codemirror_mode": {
    "name": "ipython",
    "version": 3
   },
   "file_extension": ".py",
   "mimetype": "text/x-python",
   "name": "python",
   "nbconvert_exporter": "python",
   "pygments_lexer": "ipython3",
   "version": "3.7.6"
  }
 },
 "nbformat": 4,
 "nbformat_minor": 1
}
